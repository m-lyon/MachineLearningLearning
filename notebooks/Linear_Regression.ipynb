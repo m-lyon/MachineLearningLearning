{
 "cells": [
  {
   "cell_type": "markdown",
   "metadata": {},
   "source": [
    "# Week 2 Assignment"
   ]
  },
  {
   "cell_type": "markdown",
   "metadata": {},
   "source": [
    "## 1. Simple Octave Function\n",
    "\n",
    "**warmUpExercise**\n",
    "\n",
    "Create a 5x5 identity matrix"
   ]
  },
  {
   "cell_type": "code",
   "execution_count": 1,
   "metadata": {},
   "outputs": [
    {
     "name": "stdout",
     "output_type": "stream",
     "text": [
      "[[1. 0. 0. 0. 0.]\n",
      " [0. 1. 0. 0. 0.]\n",
      " [0. 0. 1. 0. 0.]\n",
      " [0. 0. 0. 1. 0.]\n",
      " [0. 0. 0. 0. 1.]]\n"
     ]
    }
   ],
   "source": [
    "import numpy as np\n",
    "\n",
    "A = np.identity(5)\n",
    "print(A)"
   ]
  },
  {
   "cell_type": "markdown",
   "metadata": {},
   "source": [
    "## 2 Linear regression with one variable\n",
    "\n",
    "**Plotting the data**\n",
    "\n",
    "Plot the data below"
   ]
  },
  {
   "cell_type": "code",
   "execution_count": 72,
   "metadata": {},
   "outputs": [
    {
     "data": {
      "image/png": "[encoded data removed]",
      "text/plain": [
       "<Figure size 432x288 with 1 Axes>"
      ]
     },
     "metadata": {
      "needs_background": "light"
     },
     "output_type": "display_data"
    }
   ],
   "source": [
    "%matplotlib inline\n",
    "import matplotlib.pyplot as plt\n",
    "\n",
    "data = np.genfromtxt('ex1data1.txt', delimiter=',')\n",
    "x = data[:,0]\n",
    "y = data[:,1]\n",
    "m = len(y)\n",
    "plt.scatter(x, y, marker='x', color='red')\n",
    "plt.ylabel('Profit in $10,000s')\n",
    "plt.xlabel('Population of City in 10,000s')\n",
    "plt.show()"
   ]
  },
  {
   "cell_type": "markdown",
   "metadata": {},
   "source": [
    "**Implementing Gradient Descent**\n",
    "\n",
    "Here we fit linear regression using a batched gradient descent algorithm"
   ]
  },
  {
   "cell_type": "code",
   "execution_count": 73,
   "metadata": {},
   "outputs": [],
   "source": [
    "# First add a column of 1s to our features matrix\n",
    "X = np.matrix([np.ones(m),x])\n",
    "X = X.transpose()\n",
    "# convert x & y into matrix not vector...\n",
    "y = np.matrix(y)\n",
    "y = y.transpose()\n",
    "x = np.matrix(x)\n",
    "x = x.transpose()\n",
    "# Initialize fitting parameters\n",
    "theta = np.zeros((2,1))\n",
    "iterations = 1500\n",
    "alpha = 0.01"
   ]
  },
  {
   "cell_type": "code",
   "execution_count": 78,
   "metadata": {},
   "outputs": [
    {
     "name": "stdout",
     "output_type": "stream",
     "text": [
      "32.072733877455676\n"
     ]
    }
   ],
   "source": [
    "# Cost\n",
    "hypo = X*theta\n",
    "cost = (1/(2*m)) * np.sum(np.square(hypo-y))\n",
    "print(cost)"
   ]
  },
  {
   "cell_type": "code",
   "execution_count": 97,
   "metadata": {},
   "outputs": [],
   "source": [
    "def computeCost(X, y, theta):\n",
    "    m = len(y)\n",
    "    # Get hypothesis\n",
    "    h = X*theta\n",
    "    \n",
    "    # calculate sum of squares difference\n",
    "    diff = np.sum(np.square(hypo - y))\n",
    "    \n",
    "    # multiply by m factor\n",
    "    cost = (1/(2*m)) * diff\n",
    "    return cost"
   ]
  },
  {
   "cell_type": "code",
   "execution_count": 101,
   "metadata": {},
   "outputs": [],
   "source": [
    "# Gradient descent\n",
    "def iterateTheta(X, y, theta, alpha):\n",
    "    m = len(y)\n",
    "    \n",
    "    # Get hypothesis\n",
    "    h = X*theta\n",
    "    \n",
    "    # X.T is transpose of X\n",
    "    theta = theta - ((1 - m) * (alpha) * (X.T*(hypo-y)))\n",
    "    \n",
    "    return theta"
   ]
  }
 ],
 "metadata": {
  "kernelspec": {
   "display_name": "Python 3",
   "language": "python",
   "name": "python3"
  },
  "language_info": {
   "codemirror_mode": {
    "name": "ipython",
    "version": 3
   },
   "file_extension": ".py",
   "mimetype": "text/x-python",
   "name": "python",
   "nbconvert_exporter": "python",
   "pygments_lexer": "ipython3",
   "version": "3.6.8"
  }
 },
 "nbformat": 4,
 "nbformat_minor": 2
}
