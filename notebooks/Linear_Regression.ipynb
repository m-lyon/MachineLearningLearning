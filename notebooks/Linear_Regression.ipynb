{
 "cells": [
  {
   "cell_type": "markdown",
   "metadata": {},
   "source": [
    "# Linear Regression\n",
    "\n",
    "#### This notebook explores applying gradient descent to a linear regression model"
   ]
  },
  {
   "cell_type": "markdown",
   "metadata": {},
   "source": [
    "## Linear Regression with Vectorised Gradient Descent\n",
    "\n",
    "First let's do some housekeeping, importing the data and appropriate modules."
   ]
  },
  {
   "cell_type": "code",
   "execution_count": 103,
   "metadata": {},
   "outputs": [],
   "source": [
    "import numpy as np\n",
    "import matplotlib.pyplot as plt\n",
    "%matplotlib inline\n",
    "\n",
    "data = np.genfromtxt('data/ex1data1.txt', delimiter=',')\n",
    "x = data[:,0]\n",
    "y = data[:,1]"
   ]
  },
  {
   "cell_type": "markdown",
   "metadata": {},
   "source": [
    "Now we will plot the data, to see what it looks like"
   ]
  },
  {
   "cell_type": "code",
   "execution_count": 104,
   "metadata": {},
   "outputs": [
    {
     "data": {
      "image/png": "[encoded data removed]",
      "text/plain": [
       "<Figure size 432x288 with 1 Axes>"
      ]
     },
     "metadata": {
      "needs_background": "light"
     },
     "output_type": "display_data"
    }
   ],
   "source": [
    "plt.scatter(x, y, marker='x', color='red')\n",
    "plt.ylabel('Profit in $10,000s')\n",
    "plt.xlabel('Population of City in 10,000s')\n",
    "plt.show()"
   ]
  },
  {
   "cell_type": "markdown",
   "metadata": {},
   "source": [
    "**Implementing Gradient Descent**\n",
    "\n",
    "Here we fit linear regression using a batched gradient descent algorithm.\n",
    "\n",
    "First let's get our variables setup"
   ]
  },
  {
   "cell_type": "code",
   "execution_count": 105,
   "metadata": {},
   "outputs": [],
   "source": [
    "# First add a column of 1s to our features matrix\n",
    "X = np.matrix([np.ones(len(y)),x])\n",
    "X = X.transpose()\n",
    "# convert x & y into matrix not vector...\n",
    "y = np.matrix(y)\n",
    "y = y.transpose()\n",
    "x = np.matrix(x)\n",
    "x = x.transpose()"
   ]
  },
  {
   "cell_type": "markdown",
   "metadata": {},
   "source": [
    "Now let's define functions for gradient descent."
   ]
  },
  {
   "cell_type": "code",
   "execution_count": 106,
   "metadata": {},
   "outputs": [],
   "source": [
    "def computeCost(X, y, theta):\n",
    "    m = len(y)\n",
    "    # Get hypothesis\n",
    "    h = X*theta\n",
    "\n",
    "    # calculate sum of squares difference\n",
    "    diff = np.sum(np.square(h - y))\n",
    "\n",
    "    # multiply by m factor\n",
    "    cost = (1/(2*m)) * diff\n",
    "\n",
    "    return cost"
   ]
  },
  {
   "cell_type": "code",
   "execution_count": 107,
   "metadata": {},
   "outputs": [],
   "source": [
    "def iterateTheta(X, y, theta, alpha):\n",
    "    m = len(y)\n",
    "    \n",
    "    # Get hypothesis\n",
    "    h = X*theta\n",
    "    \n",
    "    # X.T is transpose of X\n",
    "    theta = theta - ((1 / m) * alpha * (X.T*(h-y)))\n",
    "\n",
    "    return theta"
   ]
  },
  {
   "cell_type": "code",
   "execution_count": 108,
   "metadata": {},
   "outputs": [],
   "source": [
    "# Now we can run through the iterations\n",
    "def gradientDescent(X, y, alpha, n):\n",
    "    # Initialize variables\n",
    "    theta = np.zeros((2,1))\n",
    "    theta_vals = [theta]\n",
    "    J_vals = np.empty(n+1)\n",
    "    J_vals[0] = computeCost(X, y, theta)\n",
    "\n",
    "    for i in range(1,n+1):\n",
    "        theta = iterateTheta(X, y, theta, alpha)\n",
    "        J_vals[i] = computeCost(X, y, theta)\n",
    "        theta_vals.append(theta)\n",
    "\n",
    "    return J_vals, theta_vals"
   ]
  },
  {
   "cell_type": "markdown",
   "metadata": {},
   "source": [
    "Let's do a trial run"
   ]
  },
  {
   "cell_type": "code",
   "execution_count": 109,
   "metadata": {},
   "outputs": [],
   "source": [
    "n = 100\n",
    "alpha = 0.001\n",
    "J_vals, theta_vals = gradientDescent(X, y, alpha, n)\n"
   ]
  },
  {
   "cell_type": "markdown",
   "metadata": {},
   "source": [
    "And plot what it looks like"
   ]
  },
  {
   "cell_type": "code",
   "execution_count": 111,
   "metadata": {},
   "outputs": [],
   "source": [
    "def plotCostFunction(J_vals):\n",
    "    plt.plot(np.arange(len(J_vals)), J_vals)\n",
    "    plt.show()\n",
    "\n",
    "def plotBestFit(theta, x, y):\n",
    "    # Plot scatter plot with line of best fit defined by theta\n",
    "    c = np.squeeze(np.asarray(theta[0]))\n",
    "    m = np.squeeze(np.asarray(theta[1]))\n",
    "    y_0 = c\n",
    "    x_0 = 0\n",
    "\n",
    "    x_1 = np.amax(x)\n",
    "    y_1 = m*x_1 + c\n",
    "\n",
    "    # turn matrices into 1d array\n",
    "    y = np.squeeze(np.asarray(y))\n",
    "    x = np.squeeze(np.asarray(x))\n",
    "\n",
    "    plt.scatter(x, y, marker='x', color='red')\n",
    "    plt.plot([x_0, x_1], [y_0, y_1], color='blue') \n",
    "    plt.ylabel('Profit in $10,000s')\n",
    "    plt.xlabel('Population of City in 10,000s')\n",
    "    plt.show()"
   ]
  },
  {
   "cell_type": "code",
   "execution_count": 112,
   "metadata": {},
   "outputs": [
    {
     "data": {
      "image/png": "[encoded data removed]",
      "text/plain": [
       "<Figure size 432x288 with 1 Axes>"
      ]
     },
     "metadata": {
      "needs_background": "light"
     },
     "output_type": "display_data"
    },
    {
     "data": {
      "image/png": "[encoded data removed]",
      "text/plain": [
       "<Figure size 432x288 with 1 Axes>"
      ]
     },
     "metadata": {
      "needs_background": "light"
     },
     "output_type": "display_data"
    }
   ],
   "source": [
    "plotCostFunction(J_vals)\n",
    "min_J = np.amin(J_vals)\n",
    "result = np.where(J_vals == np.amin(J_vals))\n",
    "\n",
    "plotBestFit(theta_vals[result[0][0]], x, y)"
   ]
  },
  {
   "cell_type": "markdown",
   "metadata": {},
   "source": [
    "Great!"
   ]
  },
  {
   "cell_type": "markdown",
   "metadata": {},
   "source": [
    "## Feature Normalization\n",
    "\n",
    "Now let's expand our model, using more features and **feature normalization**"
   ]
  },
  {
   "cell_type": "code",
   "execution_count": null,
   "metadata": {},
   "outputs": [],
   "source": []
  },
  {
   "cell_type": "markdown",
   "metadata": {},
   "source": [
    "## Normal Equation\n",
    "\n",
    "Instead of using **Gradient Descent**, we can use the **Normal Equation** to find the best fit."
   ]
  },
  {
   "cell_type": "code",
   "execution_count": null,
   "metadata": {},
   "outputs": [],
   "source": []
  }
 ],
 "metadata": {
  "kernelspec": {
   "display_name": "Python 3",
   "language": "python",
   "name": "python3"
  },
  "language_info": {
   "codemirror_mode": {
    "name": "ipython",
    "version": 3
   },
   "file_extension": ".py",
   "mimetype": "text/x-python",
   "name": "python",
   "nbconvert_exporter": "python",
   "pygments_lexer": "ipython3",
   "version": "3.7.4"
  }
 },
 "nbformat": 4,
 "nbformat_minor": 2
}
