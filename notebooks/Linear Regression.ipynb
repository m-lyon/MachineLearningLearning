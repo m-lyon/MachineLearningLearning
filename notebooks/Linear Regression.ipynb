{
 "cells": [
  {
   "cell_type": "markdown",
   "metadata": {},
   "source": [
    "# Linear Regression\n",
    "\n",
    "#### This notebook explores implementing gradient descent on a linear regression model"
   ]
  },
  {
   "cell_type": "markdown",
   "metadata": {},
   "source": [
    "## Linear Regression with Vectorised Gradient Descent\n",
    "\n",
    "### Model\n",
    "\n",
    "First let's do some housekeeping, importing the data and appropriate modules."
   ]
  },
  {
   "cell_type": "code",
   "execution_count": 5,
   "metadata": {},
   "outputs": [],
   "source": [
    "import numpy as np\n",
    "import matplotlib.pyplot as plt\n",
    "%matplotlib inline\n",
    "\n",
    "data = np.genfromtxt('data/ex1data1.txt', delimiter=',')\n",
    "x = data[:,0]\n",
    "y = data[:,1]"
   ]
  },
  {
   "cell_type": "markdown",
   "metadata": {},
   "source": [
    "Now we will plot the data, to see what it looks like"
   ]
  },
  {
   "cell_type": "code",
   "execution_count": 6,
   "metadata": {},
   "outputs": [
    {
     "data": {
      "image/png": "[encoded data removed]",
      "text/plain": [
       "<Figure size 432x288 with 1 Axes>"
      ]
     },
     "metadata": {
      "needs_background": "light"
     },
     "output_type": "display_data"
    }
   ],
   "source": [
    "plt.scatter(x, y, marker='x', color='red')\n",
    "plt.ylabel('Profit in $10,000s')\n",
    "plt.xlabel('Population of City in 10,000s')\n",
    "plt.show()"
   ]
  },
  {
   "cell_type": "markdown",
   "metadata": {},
   "source": [
    "**Implementing Gradient Descent**\n",
    "\n",
    "Here we fit linear regression using a batched gradient descent algorithm.\n",
    "\n",
    "First let's get our variables setup"
   ]
  },
  {
   "cell_type": "code",
   "execution_count": 7,
   "metadata": {},
   "outputs": [
    {
     "name": "stdout",
     "output_type": "stream",
     "text": [
      "(97, 1)\n",
      "(97, 1)\n"
     ]
    }
   ],
   "source": [
    "# Convert our variables into matrix format\n",
    "X = np.matrix(x)\n",
    "X = X.transpose()\n",
    "y = np.matrix(y)\n",
    "y = y.transpose()"
   ]
  },
  {
   "cell_type": "markdown",
   "metadata": {},
   "source": [
    "Now let's define functions for gradient descent."
   ]
  },
  {
   "cell_type": "code",
   "execution_count": 123,
   "metadata": {},
   "outputs": [],
   "source": [
    "def computeCost(X, y, theta):\n",
    "    m = len(y)\n",
    "    # Get hypothesis\n",
    "    h = X*theta\n",
    "\n",
    "    cost = (1 / (2*m)) * ((h-y).T * (h-y))\n",
    "\n",
    "    return cost"
   ]
  },
  {
   "cell_type": "code",
   "execution_count": 124,
   "metadata": {},
   "outputs": [],
   "source": [
    "def iterateTheta(X, y, theta, alpha):\n",
    "    m = len(y)\n",
    "    \n",
    "    # Get hypothesis\n",
    "    h = X*theta\n",
    "    \n",
    "    # X.T is transpose of X\n",
    "    theta = theta - ((1 / m) * alpha * (X.T*(h-y)))\n",
    "\n",
    "    return theta"
   ]
  },
  {
   "cell_type": "code",
   "execution_count": 125,
   "metadata": {},
   "outputs": [],
   "source": [
    "# Now we can run through the iterations\n",
    "def gradientDescent(X, y, alpha, n):\n",
    "    # Add a column of 1s to our feature matrix\n",
    "    ones = np.transpose(np.matrix(np.ones(len(X))))\n",
    "    X = np.hstack((ones, X))\n",
    "\n",
    "    # Initialize theta\n",
    "    theta = np.zeros((X.shape[1],1))\n",
    "    theta_vals = [np.asmatrix(theta)]\n",
    "    \n",
    "    J_vals = np.empty(n+1)\n",
    "    J_vals[0] = computeCost(X, y, theta)\n",
    "\n",
    "    for i in range(1,n+1):\n",
    "        theta = iterateTheta(X, y, theta, alpha)\n",
    "        J_vals[i] = computeCost(X, y, theta)\n",
    "        theta_vals.append(theta)\n",
    "\n",
    "    return J_vals, theta_vals"
   ]
  },
  {
   "cell_type": "markdown",
   "metadata": {},
   "source": [
    "Let's do a trial run"
   ]
  },
  {
   "cell_type": "code",
   "execution_count": 126,
   "metadata": {},
   "outputs": [],
   "source": [
    "n = 50\n",
    "alpha = 0.001\n",
    "J_vals, theta_vals = gradientDescent(X, y, alpha, n)"
   ]
  },
  {
   "cell_type": "markdown",
   "metadata": {},
   "source": [
    "And plot what it looks like"
   ]
  },
  {
   "cell_type": "code",
   "execution_count": 127,
   "metadata": {},
   "outputs": [],
   "source": [
    "def plotCostFunction(J_vals):\n",
    "    plt.plot(np.arange(len(J_vals)), J_vals)\n",
    "    plt.show()\n",
    "\n",
    "def plotBestFit(theta, x, y):\n",
    "    # Plot scatter plot with line of best fit defined by theta\n",
    "    c = np.squeeze(np.asarray(theta[0]))\n",
    "    m = np.squeeze(np.asarray(theta[1]))\n",
    "    y_0 = c\n",
    "    x_0 = 0\n",
    "\n",
    "    x_1 = np.amax(x)\n",
    "    y_1 = m*x_1 + c\n",
    "\n",
    "    # turn matrices into 1d array\n",
    "    y = np.squeeze(np.asarray(y))\n",
    "    x = np.squeeze(np.asarray(x))\n",
    "\n",
    "    plt.scatter(x, y, marker='x', color='red')\n",
    "    plt.plot([x_0, x_1], [y_0, y_1], color='blue') \n",
    "    plt.ylabel('Profit in $10,000s')\n",
    "    plt.xlabel('Population of City in 10,000s')\n",
    "    plt.show()"
   ]
  },
  {
   "cell_type": "code",
   "execution_count": 128,
   "metadata": {},
   "outputs": [
    {
     "data": {
      "image/png": "[encoded data removed]",
      "text/plain": [
       "<Figure size 432x288 with 1 Axes>"
      ]
     },
     "metadata": {
      "needs_background": "light"
     },
     "output_type": "display_data"
    },
    {
     "data": {
      "image/png": "[encoded data removed]",
      "text/plain": [
       "<Figure size 432x288 with 1 Axes>"
      ]
     },
     "metadata": {
      "needs_background": "light"
     },
     "output_type": "display_data"
    },
    {
     "name": "stdout",
     "output_type": "stream",
     "text": [
      "[[0.04296476]\n",
      " [0.7863581 ]]\n"
     ]
    }
   ],
   "source": [
    "plotCostFunction(J_vals)\n",
    "min_J = np.amin(J_vals)\n",
    "result = np.where(J_vals == np.amin(J_vals))\n",
    "plotBestFit(theta_vals[result[0][0]], X, y)\n",
    "\n",
    "print(theta_vals[result[0][0]])"
   ]
  },
  {
   "cell_type": "markdown",
   "metadata": {},
   "source": [
    "Great!"
   ]
  },
  {
   "cell_type": "markdown",
   "metadata": {},
   "source": [
    "## Feature Normalization\n",
    "\n",
    "Now let's expand our model, using more features and **feature normalization**.\n",
    "\n",
    "First let's import a new dataset with more than one feature."
   ]
  },
  {
   "cell_type": "code",
   "execution_count": 129,
   "metadata": {},
   "outputs": [],
   "source": [
    "multi_data = np.genfromtxt('data/ex1data2.txt', delimiter=',')\n",
    "x1 = multi_data[:,0]\n",
    "x2 = multi_data[:,1]\n",
    "y = multi_data[:,2]\n",
    "\n",
    "# Convert to vector/matrix format\n",
    "Y = np.matrix(y)\n",
    "Y = Y.T\n",
    "X = np.concatenate((np.matrix(x1), np.matrix(x2)))\n",
    "X = X.T\n"
   ]
  },
  {
   "cell_type": "markdown",
   "metadata": {},
   "source": [
    "Now let's calculate the mean and standard deviation "
   ]
  },
  {
   "cell_type": "code",
   "execution_count": 130,
   "metadata": {},
   "outputs": [
    {
     "name": "stdout",
     "output_type": "stream",
     "text": [
      "[[2000.68085106    3.17021277]]\n",
      "[[7.86202619e+02 7.52842809e-01]]\n"
     ]
    }
   ],
   "source": [
    "mu = np.mean(X, axis=0)\n",
    "sigma = np.std(X, axis=0)\n",
    "print(mu)\n",
    "print(sigma)"
   ]
  },
  {
   "cell_type": "code",
   "execution_count": 131,
   "metadata": {},
   "outputs": [],
   "source": [
    "X_norm = (X - mu) / sigma\n",
    "# Then add the column of 1s"
   ]
  },
  {
   "cell_type": "markdown",
   "metadata": {},
   "source": [
    "Now we can run Gradient Descent on the normalized features\n"
   ]
  },
  {
   "cell_type": "code",
   "execution_count": 132,
   "metadata": {},
   "outputs": [
    {
     "data": {
      "image/png": "[encoded data removed]",
      "text/plain": [
       "<Figure size 432x288 with 1 Axes>"
      ]
     },
     "metadata": {
      "needs_background": "light"
     },
     "output_type": "display_data"
    }
   ],
   "source": [
    "alpha = 0.1\n",
    "n = 200\n",
    "\n",
    "J_vals, theta_vals = gradientDescent(X_norm, Y, alpha, n)\n",
    "plotCostFunction(J_vals)"
   ]
  },
  {
   "cell_type": "markdown",
   "metadata": {},
   "source": [
    "Now let's write a function that will give us a prediction based on this normalised model."
   ]
  },
  {
   "cell_type": "code",
   "execution_count": 133,
   "metadata": {},
   "outputs": [],
   "source": [
    "def getPrediction(theta_val, mu, sigma, input):\n",
    "    mu = np.squeeze(np.asarray(mu))\n",
    "    sigma = np.squeeze(np.asarray(sigma))\n",
    "    input_norm = (input - mu) / sigma\n",
    "\n",
    "    return (theta_val[0,0] + theta_val[1,0]*input_norm[0] + theta_val[2,0]*input_norm[1])"
   ]
  },
  {
   "cell_type": "markdown",
   "metadata": {},
   "source": [
    "## Normal Equation\n",
    "\n",
    "Instead of using **Gradient Descent**, we can use the **Normal Equation** to find the best fit."
   ]
  },
  {
   "cell_type": "code",
   "execution_count": null,
   "metadata": {},
   "outputs": [],
   "source": []
  },
  {
   "cell_type": "code",
   "execution_count": 134,
   "metadata": {},
   "outputs": [],
   "source": [
    "def normalEquation(X, y):\n",
    "    \n",
    "    theta = (np.linalg.inv(X.T * X) * (X.T) * y)\n",
    "    \n",
    "    return theta"
   ]
  },
  {
   "cell_type": "code",
   "execution_count": 135,
   "metadata": {},
   "outputs": [],
   "source": [
    "ones = np.transpose(np.matrix(np.ones(len(X))))\n",
    "X_n = np.hstack((ones, X))\n",
    "theta_norm = normalEquation(X_n, Y)"
   ]
  },
  {
   "cell_type": "code",
   "execution_count": 136,
   "metadata": {},
   "outputs": [
    {
     "name": "stdout",
     "output_type": "stream",
     "text": [
      "A 3 bedroom house with 1890 square feet\n",
      "\n",
      "Normal equation prediction: $326492\n",
      "\n",
      "Gradient descent with normalization: $320663\n"
     ]
    }
   ],
   "source": [
    "print('A 3 bedroom house with 1890 square feet\\n')\n",
    "\n",
    "print('Normal equation prediction: ${:d}'.format(int(3*theta_norm[2] + 1890*theta_norm[1] + theta_norm[0])))\n",
    "\n",
    "pred_norm = getPrediction(theta_vals[40], mu, sigma, np.array([1890,3]))\n",
    "print('')\n",
    "print('Gradient descent with normalization: ${:d}'.format(int(pred_norm)))"
   ]
  },
  {
   "cell_type": "markdown",
   "metadata": {},
   "source": [
    "The actual value for a 1890 square feet, 3 bedrooms is: \\$329999"
   ]
  },
  {
   "cell_type": "code",
   "execution_count": null,
   "metadata": {},
   "outputs": [],
   "source": []
  }
 ],
 "metadata": {
  "kernelspec": {
   "display_name": "Python 3",
   "language": "python",
   "name": "python3"
  },
  "language_info": {
   "codemirror_mode": {
    "name": "ipython",
    "version": 3
   },
   "file_extension": ".py",
   "mimetype": "text/x-python",
   "name": "python",
   "nbconvert_exporter": "python",
   "pygments_lexer": "ipython3",
   "version": "3.7.4"
  }
 },
 "nbformat": 4,
 "nbformat_minor": 2
}
