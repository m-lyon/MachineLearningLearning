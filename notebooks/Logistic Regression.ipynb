{
 "cells": [
  {
   "cell_type": "markdown",
   "metadata": {},
   "source": [
    "# Logistic Regression\n",
    "\n",
    "This notebook will go through a machine learning implementation of Logistic Regression, as well as implementing Regularization within the model."
   ]
  },
  {
   "cell_type": "markdown",
   "metadata": {},
   "source": [
    "### Setup\n",
    "\n",
    "First let's import some data, and view it."
   ]
  },
  {
   "cell_type": "code",
   "execution_count": 1,
   "metadata": {},
   "outputs": [
    {
     "data": {
      "image/png": "[encoded data removed]",
      "text/plain": [
       "<Figure size 432x288 with 1 Axes>"
      ]
     },
     "metadata": {
      "needs_background": "light"
     },
     "output_type": "display_data"
    }
   ],
   "source": [
    "import numpy as np\n",
    "import matplotlib.pyplot as plt\n",
    "import pandas as pd\n",
    "%matplotlib inline\n",
    "\n",
    "df = pd.read_csv('data/ex2data1.txt',delimiter=',',\n",
    "                 header=None,\n",
    "                 names=['Exam Score 1','Exam Score 2','Pass or Fail'])\n",
    "pass_df = df[df['Pass or Fail']==1]\n",
    "fail_df = df[df['Pass or Fail']==0]\n",
    "\n",
    "plt.scatter(pass_df['Exam Score 1'], pass_df['Exam Score 2'], marker='+', color='black')\n",
    "plt.scatter(fail_df['Exam Score 1'], fail_df['Exam Score 2'], marker='o', color='yellow', edgecolors='black')\n",
    "plt.ylabel('Exam 2 Score')\n",
    "plt.xlabel('Exam 1 Score')\n",
    "plt.show()"
   ]
  },
  {
   "cell_type": "markdown",
   "metadata": {},
   "source": [
    "Now let's convert our data into a numpy matrix, so we can easily vectorize our calculations."
   ]
  },
  {
   "cell_type": "code",
   "execution_count": 2,
   "metadata": {},
   "outputs": [],
   "source": [
    "X = np.asmatrix(df[['Exam Score 1', 'Exam Score 2']].to_numpy())\n",
    "Y = np.asmatrix(df['Pass or Fail'].to_numpy())\n",
    "# Transpose Y so the rows represent the number of training examples\n",
    "Y = Y.T\n"
   ]
  },
  {
   "cell_type": "markdown",
   "metadata": {},
   "source": [
    "## Logistic Regression\n",
    "\n",
    "### Model\n",
    "\n",
    "In Logistic Regression our hypothesis function is defined as:\n",
    "\\begin{equation*}\n",
    "h_{\\theta}(x) = g(\\theta x)\n",
    "\\end{equation*}\n",
    "Where the function g is the sigmoid function:\n",
    "\\begin{equation*}\n",
    "g(z) = \\frac{1}{1+e^{-z}}\n",
    "\\end{equation*}\n",
    "\n",
    "In code this is:"
   ]
  },
  {
   "cell_type": "code",
   "execution_count": 3,
   "metadata": {},
   "outputs": [],
   "source": [
    "def sigmoid(z):\n",
    "   return (1 / (1 + np.exp(-z)))"
   ]
  },
  {
   "cell_type": "markdown",
   "metadata": {},
   "source": [
    "### Cost Function\n",
    "\n",
    "We define our cost $J$ as a function of $\\theta$ below, where $m$ is the number of training datasets, and $x^{(i)}$ & $y^{(i)}$ refers to the $i^{th}$ training dataset datapoint for $x$ and $y$ respectively.\n",
    "\\begin{equation*}\n",
    "J(\\theta) = \\frac{1}{m} \\sum_{i=1}^m [\\, -y^{(i)} \\log h_{\\theta}(x^{(i)}) + (1+y^{(i)})\\log(1-h_{\\theta}(x^{(i)})) ]\\,\n",
    "\\end{equation*}\n",
    "By defining $X_{(m,n)}$ as a matrix with our labelled dataset with $m$ datapoints and $n$ features, $Y_{(m,1)}$ containing our labelled data, and $\\theta_{(n,1)}$ as our hypothesis matrix, we can use the vectorized form defined below as an efficient implementation of the cost function calculation.\n",
    "\n",
    "\\begin{equation*}\n",
    "J(\\theta) = \\frac{1}{m} \\Bigl( -Y^{T}\\log{(H)}-(1-Y)^{T}\\log{(1-H)}\\Bigr)\n",
    "\\end{equation*}\n",
    "\n",
    "Where\n",
    "\n",
    "\\begin{equation*}\n",
    "H = g(\\theta^{T} X)\n",
    "\\end{equation*}\n",
    "\n",
    "### Gradient\n",
    "\n",
    "The gradient $\\nabla J(\\theta)$ is defined as:\n",
    "\n",
    "\\begin{equation*}\n",
    "\\nabla J(\\theta) = \\frac{1}{m} \\sum_{i=1}^m (h_{\\theta}(x^{(i)}) - y^{(i)}) x^{(i)}\n",
    "\\end{equation*}\n",
    "\n",
    "Of which the vectorized form becomes:\n",
    "\n",
    "\\begin{equation*}\n",
    "\\nabla J(\\theta) = \\frac{1}{m} X^{T}(H-Y)\n",
    "\\end{equation*}\n",
    "\n",
    "We've defined these in code below."
   ]
  },
  {
   "cell_type": "code",
   "execution_count": 4,
   "metadata": {},
   "outputs": [],
   "source": [
    "def cost(theta, X, Y):\n",
    "    # Convert theta from numpy.ndarray to matrix\n",
    "    theta = np.matrix(theta)\n",
    "    # Get hypothesis\n",
    "    h = sigmoid(X*theta.T)\n",
    "    m,n = X.shape\n",
    "    # Calculate cost\n",
    "    J = (1/m)*(-Y.T * np.log(h) - (1-Y).T * np.log(1-h))\n",
    "    return J.item()\n",
    "\n",
    "def gradient(theta, X, Y):\n",
    "    # Convert theta from numpy.ndarray to matrix\n",
    "    theta = np.matrix(theta)\n",
    "    # Get hypothesis\n",
    "    h = sigmoid(X*theta.T)\n",
    "    m,n = X.shape\n",
    "    # Calculate gradient\n",
    "    grad = (1/m)* X.T*(h-Y)\n",
    "    \n",
    "    return grad"
   ]
  },
  {
   "cell_type": "markdown",
   "metadata": {},
   "source": [
    "Now let's calculate the cost of some initial $\\theta$."
   ]
  },
  {
   "cell_type": "code",
   "execution_count": 5,
   "metadata": {},
   "outputs": [
    {
     "name": "stdout",
     "output_type": "stream",
     "text": [
      "The cost of a theta [0. 0. 0.] is: 0.693\n",
      "The gradient at this point is: \n",
      "[[ -0.1       ]\n",
      " [-12.00921659]\n",
      " [-11.26284221]]\n",
      "\n",
      "The cost of a theta [-24.    0.2   0.2] is: 0.218\n",
      "The gradient at this point is: \n",
      "[[0.04290299]\n",
      " [2.56623412]\n",
      " [2.64679737]]\n",
      "\n"
     ]
    }
   ],
   "source": [
    "# Initialize variables\n",
    "\n",
    "# Add column of 1s to the matrix X\n",
    "ones = np.transpose(np.matrix(np.ones(len(X))))\n",
    "X_h = np.hstack((ones, X))\n",
    "m,n = X.shape\n",
    "# Initialize theta\n",
    "theta = np.zeros(3)\n",
    "# Calculate the cost and the gradient\n",
    "J = cost(theta, X_h, Y)\n",
    "grad = gradient(theta, X_h, Y)\n",
    "print('The cost of a theta {0} is: {1:.3f}'.format(theta,J))\n",
    "print('The gradient at this point is: \\n{0}\\n'.format(grad))\n",
    "\n",
    "theta = np.array([-24, 0.2, 0.2])\n",
    "J = cost(theta, X_h, Y)\n",
    "grad = gradient(theta, X_h, Y)\n",
    "print('The cost of a theta {0} is: {1:.3f}'.format(theta,J))\n",
    "print('The gradient at this point is: \\n{0}\\n'.format(grad))"
   ]
  },
  {
   "cell_type": "markdown",
   "metadata": {},
   "source": [
    "Now let's try a Gradient Descent implementation. Note here that starting with a $\\theta$ of zeros will not converge to the best linear fit. Let's start with something closer to an optimal value.\n",
    "\n"
   ]
  },
  {
   "cell_type": "code",
   "execution_count": 6,
   "metadata": {},
   "outputs": [],
   "source": [
    "def gradientDescent(costFunction, theta, alpha, X, Y, n):\n",
    "    \n",
    "    # Add column of 1s to our X matrix\n",
    "    ones = np.transpose(np.matrix(np.ones(len(X))))\n",
    "    X = np.hstack((ones, X))\n",
    "    \n",
    "    # Initialize theta as zeros\n",
    "    theta_vals = [np.asmatrix(theta)]\n",
    "    J_vals = np.empty(n+1)\n",
    "    J_vals[0] = cost(theta, X, Y)\n",
    "    grad = gradient(theta, X, Y)\n",
    "    \n",
    "    for i in range(1,n+1):\n",
    "        theta = theta - np.squeeze(alpha * grad)\n",
    "        theta_vals.append(theta)\n",
    "        J_vals[i] = cost(theta, X, Y)\n",
    "        grad = gradient(theta, X, Y)\n",
    "    return J_vals, theta_vals"
   ]
  },
  {
   "cell_type": "code",
   "execution_count": 7,
   "metadata": {},
   "outputs": [],
   "source": [
    "def plotCostFunction(J_vals):\n",
    "    plt.plot(np.arange(len(J_vals)), J_vals)\n",
    "    plt.show()"
   ]
  },
  {
   "cell_type": "code",
   "execution_count": 8,
   "metadata": {},
   "outputs": [],
   "source": [
    "# Test\n",
    "\n",
    "alpha = 0.00005\n",
    "theta = np.array([-24,0.2,0.2])\n",
    "n = 100\n",
    "\n",
    "J_vals, theta_vals = gradientDescent(cost, theta, alpha, X, Y, n)"
   ]
  },
  {
   "cell_type": "code",
   "execution_count": 9,
   "metadata": {},
   "outputs": [
    {
     "data": {
      "image/png": "[encoded data removed]",
      "text/plain": [
       "<Figure size 432x288 with 1 Axes>"
      ]
     },
     "metadata": {
      "needs_background": "light"
     },
     "output_type": "display_data"
    }
   ],
   "source": [
    "plotCostFunction(J_vals)"
   ]
  },
  {
   "cell_type": "code",
   "execution_count": 10,
   "metadata": {},
   "outputs": [],
   "source": [
    "# Plot scatter plot with line of best fit defined by theta\n",
    "def plotWithBestFit(df, theta_min):\n",
    "    \n",
    "    #theta_min = np.asarray(theta_vals[2])\n",
    "    x_1 = df['Exam Score 1'].min()\n",
    "    y_1 = (-1 / theta_min[2]) * ((x_1*theta_min[1]) + theta_min[0])\n",
    "    x_2 = df['Exam Score 1'].max()\n",
    "    y_2 = (-1 / theta_min[2]) * ((x_2*theta_min[1]) + theta_min[0])\n",
    "\n",
    "    plt.scatter(pass_df['Exam Score 1'], pass_df['Exam Score 2'], marker='+', color='black')\n",
    "    plt.scatter(fail_df['Exam Score 1'], fail_df['Exam Score 2'], marker='o', color='yellow', edgecolors='black')\n",
    "    plt.plot([x_1, x_2], [y_1, y_2], color='blue') \n",
    "    plt.ylabel('Exam 2 Score')\n",
    "    plt.xlabel('Exam 1 Score')\n",
    "\n",
    "    plt.show()"
   ]
  },
  {
   "cell_type": "code",
   "execution_count": 11,
   "metadata": {},
   "outputs": [
    {
     "data": {
      "image/png": "[encoded data removed]",
      "text/plain": [
       "<Figure size 432x288 with 1 Axes>"
      ]
     },
     "metadata": {
      "needs_background": "light"
     },
     "output_type": "display_data"
    }
   ],
   "source": [
    "theta_min = theta_vals[100]\n",
    "theta_min = np.squeeze(np.asarray(theta_min))\n",
    "\n",
    "plotWithBestFit(df, np.ndarray.tolist(theta_min))"
   ]
  },
  {
   "cell_type": "markdown",
   "metadata": {},
   "source": [
    "Not too bad for a linear fit. Now let's use *scipy's built in optimization function* to find the optimal value of theta."
   ]
  },
  {
   "cell_type": "code",
   "execution_count": 12,
   "metadata": {},
   "outputs": [
    {
     "name": "stdout",
     "output_type": "stream",
     "text": [
      "With this result we get a cost of: 0.203\n"
     ]
    },
    {
     "data": {
      "image/png": "[encoded data removed]",
      "text/plain": [
       "<Figure size 432x288 with 1 Axes>"
      ]
     },
     "metadata": {
      "needs_background": "light"
     },
     "output_type": "display_data"
    }
   ],
   "source": [
    "import scipy.optimize as opt\n",
    "    \n",
    "theta = np.zeros(3)\n",
    "result = opt.fmin_tnc(func=cost, x0=theta, fprime=gradient, args=(X_h, Y))\n",
    "print('With this result we get a cost of: {:.3f}'.format(cost(result[0], X_h, Y)))\n",
    "\n",
    "plotWithBestFit(df, result[0])"
   ]
  },
  {
   "cell_type": "markdown",
   "metadata": {},
   "source": [
    "### Predict\n",
    "\n",
    "Now we can use the model to make a prediction, and in turn test how well our model performs in the training dataset."
   ]
  },
  {
   "cell_type": "code",
   "execution_count": 13,
   "metadata": {},
   "outputs": [
    {
     "name": "stdout",
     "output_type": "stream",
     "text": [
      "accuracy = 89.00%\n"
     ]
    }
   ],
   "source": [
    "def _prediction(X, theta):\n",
    "    prob = sigmoid(X*theta.T)\n",
    "    return [1 if x >= 0.5 else 0 for x in prob]\n",
    "\n",
    "def printAccuracy(X, Y, theta):\n",
    "    theta = np.matrix(theta)\n",
    "    predictions = _prediction(X, theta)\n",
    "    correct = [1 if ((a == 1 and b == 1) or (a == 0 and b == 0)) else 0 for (a, b) in zip(predictions, Y)]\n",
    "    accuracy = (sum(correct) / len(Y)) * 100\n",
    "    print('accuracy = {:.2f}%'.format(accuracy))\n",
    "    \n",
    "printAccuracy(X_h, Y, result[0])"
   ]
  },
  {
   "cell_type": "markdown",
   "metadata": {},
   "source": [
    "## Logistic Regression with Regularization\n",
    "\n",
    "### Model\n",
    "In the case above, it is clear that a linear decision boundary is not the most concievably optimal solution. To implement a better solution we can use additional polynomial terms for features within $X$, we must be careful though, as adding too many polynomial terms will lead to overfitting. To prevent overfitting we will include *regularization* within our model.\n",
    "\n",
    "### Cost Function\n",
    "The cost function with a regularization term is defined below, where $\\lambda$ refers to some regularization constant and $j$ refers to the $j^{th}$ feature in the $\\theta$ matrix.\n",
    "Note here that the sum from $j$ to $n$ starts at 1, indicating that the $j=0$ term does not need regularizing.\n",
    "\n",
    "\\begin{equation*}\n",
    "J(\\theta) = \\frac{1}{m} \\sum_{i=1}^m [\\, -y^{(i)} \\log h_{\\theta}(x^{(i)}) + (1+y^{(i)})\\log(1-h_{\\theta}(x^{(i)})) ]\\, + \\frac{\\lambda}{2m} \\sum_{j=1}^n \\theta_{j}^{2}\n",
    "\\end{equation*}\n",
    "\n",
    "\n",
    "### Gradient\n",
    "The gradient for $j = 0$ is unchanged from the non-regularized cost function, however for $j \\geq 1$ the gradient becomes:\n",
    "\n",
    "\\begin{equation*}\n",
    "\\nabla J(\\theta) = \\Bigl( \\frac{1}{m} \\sum_{i=1}^m (h_{\\theta}(x^{(i)}) - y^{(i)}) x^{(i)} \\Bigr) + \\frac{\\lambda}{m} \\theta_{j}\n",
    "\\end{equation*}\n",
    "\n",
    "Let's start by visualizing some data, then defining the above equations in code."
   ]
  },
  {
   "cell_type": "markdown",
   "metadata": {},
   "source": [
    "Here we have data used to determine whether a microchip gets accepted or rejected based on two independent tests. Clearly we cannot use a linear fit to model the decision boundary for this data."
   ]
  },
  {
   "cell_type": "code",
   "execution_count": 14,
   "metadata": {},
   "outputs": [
    {
     "data": {
      "image/png": "[encoded data removed]",
      "text/plain": [
       "<Figure size 432x288 with 1 Axes>"
      ]
     },
     "metadata": {
      "needs_background": "light"
     },
     "output_type": "display_data"
    }
   ],
   "source": [
    "df = pd.read_csv('data/ex2data2.txt',\n",
    "                 delimiter=',',\n",
    "                 header=None,\n",
    "                 names=['Microchip Test 1','Microchip Test 2','Accept or Reject'])\n",
    "accept_df = df[df['Accept or Reject']==1]\n",
    "reject_df = df[df['Accept or Reject']==0]\n",
    "plt.scatter(accept_df['Microchip Test 1'], accept_df['Microchip Test 2'], marker='+', color='black')\n",
    "plt.scatter(reject_df['Microchip Test 1'], reject_df['Microchip Test 2'], marker='o', color='yellow', edgecolors='black')\n",
    "plt.ylabel('Microchip Test 2 Score')\n",
    "plt.xlabel('Microchip Test 1 Score')\n",
    "plt.show()"
   ]
  },
  {
   "cell_type": "code",
   "execution_count": 15,
   "metadata": {},
   "outputs": [],
   "source": [
    "## TODO: Map features"
   ]
  },
  {
   "cell_type": "code",
   "execution_count": 16,
   "metadata": {},
   "outputs": [],
   "source": [
    "def costReg(X, Y, theta, lmbda):\n",
    "    # Convert theta from numpy.ndarray to matrix\n",
    "    theta = np.matrix(theta)\n",
    "    # Get hypothesis\n",
    "    h = sigmoid(X*theta.T)\n",
    "    m,n = X.shape\n",
    "    # Get regularized term\n",
    "    reg = (lmbda / (2*m)) * (np.sum(np.square(theta[:,1:n])))\n",
    "    # Calculate cost\n",
    "    J = (1/m)*(-Y.T * np.log(h) - (1-Y).T * np.log(1-h)) + reg\n",
    "    \n",
    "    return J.item()\n",
    "    \n",
    "def gradientReg(X, Y, theta, lmbda):\n",
    "    #TODO: finish\n",
    "    # Convert theta from numpy.ndarray to matrix\n",
    "    theta = np.matrix(theta)\n",
    "    # Get hypothesis\n",
    "    h = sigmoid(X*theta.T)\n",
    "    m,n = X.shape\n",
    "    # Get regularized term\n",
    "    reg = (lmbda / m) * (theta[:,1:n])\n",
    "    # Calculate gradient\n",
    "    grad = (1/m)* X.T*(h-Y) + reg\n",
    "    \n",
    "    return grad"
   ]
  },
  {
   "cell_type": "code",
   "execution_count": 17,
   "metadata": {},
   "outputs": [
    {
     "name": "stdout",
     "output_type": "stream",
     "text": [
      "0.21837019382659786\n",
      "[[0.04310299 0.04310299]\n",
      " [2.56643412 2.56643412]\n",
      " [2.64699737 2.64699737]]\n"
     ]
    }
   ],
   "source": [
    "theta = np.array([-24,0.2,0.2])\n",
    "print(costReg(X_h, Y, theta, 0.1))\n",
    "print(gradientReg(X_h, Y, theta, 0.1))"
   ]
  },
  {
   "cell_type": "markdown",
   "metadata": {},
   "source": [
    "### Feature Mapping\n",
    "In the above dataset we clearly need to fit a non-linear line with respect to the features in order to produce a well performing decision boundary. To do this we can create more features by a technique known as *feature mapping*, ie including polynomial terms of the features within our model. Let's create a function that will take our features and map all polynomials upto the 6th power."
   ]
  },
  {
   "cell_type": "code",
   "execution_count": 55,
   "metadata": {},
   "outputs": [
    {
     "data": {
      "text/plain": [
       "matrix([[1.00000000e+00, 3.46236596e+01, 7.80246928e+01, ...,\n",
       "         4.44297848e+10, 1.00122874e+11, 2.25627694e+11],\n",
       "        [1.00000000e+00, 3.02867108e+01, 4.38949975e+01, ...,\n",
       "         3.40537024e+09, 4.93545566e+09, 7.15303209e+09],\n",
       "        [1.00000000e+00, 3.58474088e+01, 7.29021980e+01, ...,\n",
       "         3.62976097e+10, 7.38177632e+10, 1.50121791e+11],\n",
       "        ...,\n",
       "        [1.00000000e+00, 9.93150088e+01, 6.87754095e+01, ...,\n",
       "         2.20679764e+11, 1.52820216e+11, 1.05827639e+11],\n",
       "        [1.00000000e+00, 5.53400176e+01, 6.49319380e+01, ...,\n",
       "         5.44392391e+10, 6.38750303e+10, 7.49462991e+10],\n",
       "        [1.00000000e+00, 7.47758930e+01, 8.95298129e+01, ...,\n",
       "         3.59247640e+11, 4.30130256e+11, 5.14998615e+11]])"
      ]
     },
     "execution_count": 55,
     "metadata": {},
     "output_type": "execute_result"
    }
   ],
   "source": [
    "def mapFeatures(X, degree):\n",
    "    X_p = np.matrix(np.ones(len(X))).T\n",
    "    for i in range(1, degree+1):\n",
    "        for j in range(0, i+1):\n",
    "            x = np.multiply(np.power(X[:,1], i-j),np.power(X[:,2], j))\n",
    "            X_p = np.append(X_p, x, axis=1)\n",
    "    return X_p\n",
    "    \n",
    "mapFeatures(X_h, 6)"
   ]
  },
  {
   "cell_type": "code",
   "execution_count": null,
   "metadata": {},
   "outputs": [],
   "source": []
  },
  {
   "cell_type": "code",
   "execution_count": null,
   "metadata": {},
   "outputs": [],
   "source": []
  }
 ],
 "metadata": {
  "kernelspec": {
   "display_name": "Python 3",
   "language": "python",
   "name": "python3"
  },
  "language_info": {
   "codemirror_mode": {
    "name": "ipython",
    "version": 3
   },
   "file_extension": ".py",
   "mimetype": "text/x-python",
   "name": "python",
   "nbconvert_exporter": "python",
   "pygments_lexer": "ipython3",
   "version": "3.7.4"
  }
 },
 "nbformat": 4,
 "nbformat_minor": 2
}
