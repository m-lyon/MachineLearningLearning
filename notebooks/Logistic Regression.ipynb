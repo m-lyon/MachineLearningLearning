{
 "cells": [
  {
   "cell_type": "markdown",
   "metadata": {},
   "source": [
    "# Logistic Regression\n",
    "\n",
    "This notebook will go through a machine learning implementation of Logistic Regression, as well as implementing Regularization within the model."
   ]
  },
  {
   "cell_type": "markdown",
   "metadata": {},
   "source": [
    "### Setup\n",
    "\n",
    "First let's import some data, and view it."
   ]
  },
  {
   "cell_type": "code",
   "execution_count": 1,
   "metadata": {},
   "outputs": [
    {
     "data": {
      "image/png": "[encoded data removed]",
      "text/plain": [
       "<Figure size 432x288 with 1 Axes>"
      ]
     },
     "metadata": {
      "needs_background": "light"
     },
     "output_type": "display_data"
    }
   ],
   "source": [
    "import numpy as np\n",
    "import matplotlib.pyplot as plt\n",
    "import pandas as pd\n",
    "%matplotlib inline\n",
    "\n",
    "df = pd.read_csv('data/ex2data1.txt',delimiter=',',\n",
    "                 header=None,\n",
    "                 names=['Exam Score 1','Exam Score 2','Pass or Fail'])\n",
    "pass_df = df[df['Pass or Fail']==1]\n",
    "fail_df = df[df['Pass or Fail']==0]\n",
    "\n",
    "plt.scatter(pass_df['Exam Score 1'], pass_df['Exam Score 2'], marker='+', color='black')\n",
    "plt.scatter(fail_df['Exam Score 1'], fail_df['Exam Score 2'], marker='o', color='yellow', edgecolors='black')\n",
    "plt.ylabel('Exam 2 Score')\n",
    "plt.xlabel('Exam 1 Score')\n",
    "plt.show()"
   ]
  },
  {
   "cell_type": "markdown",
   "metadata": {},
   "source": [
    "Now let's convert our data into a numpy matrix, so we can easily vectorize our calculations."
   ]
  },
  {
   "cell_type": "code",
   "execution_count": 2,
   "metadata": {},
   "outputs": [],
   "source": [
    "X = np.asmatrix(df[['Exam Score 1', 'Exam Score 2']].to_numpy())\n",
    "Y = np.asmatrix(df['Pass or Fail'].to_numpy())\n",
    "# Transpose Y so the rows represent the number of training examples\n",
    "Y = Y.T"
   ]
  },
  {
   "cell_type": "markdown",
   "metadata": {},
   "source": [
    "## Logistic Regression\n",
    "\n",
    "### Model\n",
    "\n",
    "In Logistic Regression our hypothesis function is defined as:\n",
    "\\begin{equation*}\n",
    "h_{\\theta}(x) = g(\\theta x)\n",
    "\\end{equation*}\n",
    "Where the function g is the sigmoid function:\n",
    "\\begin{equation*}\n",
    "g(z) = \\frac{1}{1+e^{-z}}\n",
    "\\end{equation*}\n",
    "\n",
    "In code this is:"
   ]
  },
  {
   "cell_type": "code",
   "execution_count": 3,
   "metadata": {},
   "outputs": [],
   "source": [
    "def sigmoid(z):\n",
    "   return (1 / (1 + np.exp(-z)))"
   ]
  },
  {
   "cell_type": "markdown",
   "metadata": {},
   "source": [
    "### Cost Function\n",
    "\n",
    "We define our cost $J$ as a function of $\\theta$ below, where $m$ is the number of training datasets, and $x^{(i)}$ & $y^{(i)}$ refers to the $i^{th}$ training dataset datapoint for $x$ and $y$ respectively.\n",
    "\\begin{equation*}\n",
    "J(\\theta) = \\frac{1}{m} \\sum_{i=1}^m \\Bigl[\\, -y^{(i)} \\log(h_{\\theta}(x^{(i)})) + (1+y^{(i)})\\log(1-h_{\\theta}(x^{(i)})) \\Bigr]\\,\n",
    "\\end{equation*}\n",
    "By defining $X_{(m,n)}$ as a matrix with our labelled dataset with $m$ datapoints and $n$ features, $Y_{(m,1)}$ containing our labelled data, and $H$ as our hypothesis matrix, we can use the vectorized form defined below as an efficient implementation of the cost function calculation.\n",
    "\\begin{equation*}\n",
    "J(\\theta) = \\frac{1}{m} \\Bigl( -Y^{T}\\log{(H)}-(1-Y)^{T}\\log{(1-H)}\\Bigr)\n",
    "\\end{equation*}\n",
    "Where\n",
    "\\begin{equation*}\n",
    "H = g(\\theta^{T} X)\n",
    "\\end{equation*}\n",
    "\n",
    "### Gradient\n",
    "\n",
    "The gradient $\\nabla J(\\theta)$ is defined as:\n",
    "\n",
    "\\begin{equation*}\n",
    "\\nabla J(\\theta) = \\frac{1}{m} \\sum_{i=1}^m (h_{\\theta}(x^{(i)}) - y^{(i)}) x^{(i)}\n",
    "\\end{equation*}\n",
    "\n",
    "Of which the vectorized form becomes:\n",
    "\n",
    "\\begin{equation*}\n",
    "\\nabla J(\\theta) = \\frac{1}{m} X^{T}(H-Y)\n",
    "\\end{equation*}\n",
    "\n",
    "We've defined these in code below."
   ]
  },
  {
   "cell_type": "code",
   "execution_count": 4,
   "metadata": {},
   "outputs": [],
   "source": [
    "def cost(theta, X, Y):\n",
    "    # Convert theta from numpy.ndarray to matrix\n",
    "    theta = np.matrix(theta)\n",
    "    # Get hypothesis\n",
    "    h = sigmoid(X*theta.T)\n",
    "    m,n = X.shape\n",
    "    # Calculate cost\n",
    "    J = (1/m)*(-Y.T * np.log(h) - (1-Y).T * np.log(1-h))\n",
    "    return J.item()\n",
    "\n",
    "def gradient(theta, X, Y):\n",
    "    # Convert theta from numpy.ndarray to matrix\n",
    "    theta = np.matrix(theta)\n",
    "    # Get hypothesis\n",
    "    h = sigmoid(X*theta.T)\n",
    "    m,n = X.shape\n",
    "    # Calculate gradient\n",
    "    grad = (1/m)* X.T*(h-Y)\n",
    "    \n",
    "    return grad"
   ]
  },
  {
   "cell_type": "markdown",
   "metadata": {},
   "source": [
    "### Example\n",
    "\n",
    "We can now test our implementation, let's start by calculating the cost of some initial $\\theta$."
   ]
  },
  {
   "cell_type": "code",
   "execution_count": 5,
   "metadata": {},
   "outputs": [
    {
     "name": "stdout",
     "output_type": "stream",
     "text": [
      "The cost of a theta [0. 0. 0.] is: 0.693\n",
      "The gradient at this point is: \n",
      "[[ -0.1       ]\n",
      " [-12.00921659]\n",
      " [-11.26284221]]\n",
      "\n",
      "The cost of a theta [-24.    0.2   0.2] is: 0.218\n",
      "The gradient at this point is: \n",
      "[[0.04290299]\n",
      " [2.56623412]\n",
      " [2.64679737]]\n",
      "\n"
     ]
    }
   ],
   "source": [
    "# Initialize variables\n",
    "\n",
    "# Add column of 1s to the matrix X\n",
    "ones = np.transpose(np.matrix(np.ones(len(X))))\n",
    "X_h = np.hstack((ones, X))\n",
    "m,n = X_h.shape\n",
    "# Initialize theta\n",
    "theta = np.zeros(n)\n",
    "# Calculate the cost and the gradient\n",
    "J = cost(theta, X_h, Y)\n",
    "grad = gradient(theta, X_h, Y)\n",
    "print('The cost of a theta {0} is: {1:.3f}'.format(theta,J))\n",
    "print('The gradient at this point is: \\n{0}\\n'.format(grad))\n",
    "\n",
    "theta = np.array([-24, 0.2, 0.2])\n",
    "J = cost(theta, X_h, Y)\n",
    "grad = gradient(theta, X_h, Y)\n",
    "print('The cost of a theta {0} is: {1:.3f}'.format(theta,J))\n",
    "print('The gradient at this point is: \\n{0}\\n'.format(grad))"
   ]
  },
  {
   "cell_type": "markdown",
   "metadata": {},
   "source": [
    "Now let's try a Gradient Descent implementation. Note that starting with a $\\theta$ of zeros will not converge to the best linear fit. Let's start with something closer to an optimal value.\n",
    "\n"
   ]
  },
  {
   "cell_type": "code",
   "execution_count": 6,
   "metadata": {},
   "outputs": [],
   "source": [
    "def gradientDescent(costFunction, theta, alpha, X, Y, n):\n",
    "    \n",
    "    # Add column of 1s to our X matrix\n",
    "    ones = np.transpose(np.matrix(np.ones(len(X))))\n",
    "    X = np.hstack((ones, X))\n",
    "    \n",
    "    # Initialize theta as zeros\n",
    "    theta_vals = [np.asmatrix(theta)]\n",
    "    J_vals = np.empty(n+1)\n",
    "    J_vals[0] = cost(theta, X, Y)\n",
    "    grad = gradient(theta, X, Y)\n",
    "    \n",
    "    for i in range(1,n+1):\n",
    "        theta = theta - np.squeeze(alpha * grad)\n",
    "        theta_vals.append(theta)\n",
    "        J_vals[i] = cost(theta, X, Y)\n",
    "        grad = gradient(theta, X, Y)\n",
    "        \n",
    "    return J_vals, theta_vals"
   ]
  },
  {
   "cell_type": "code",
   "execution_count": 7,
   "metadata": {},
   "outputs": [],
   "source": [
    "def plotCostFunction(J_vals):\n",
    "    plt.plot(np.arange(len(J_vals)), J_vals)\n",
    "    plt.xlabel('Number of iterations')\n",
    "    plt.ylabel('Cost')\n",
    "    plt.show()"
   ]
  },
  {
   "cell_type": "markdown",
   "metadata": {},
   "source": [
    "Now let's start with some value of $\\theta$ and implement a gradient descent, we can then plot how the cost changes over each iteration."
   ]
  },
  {
   "cell_type": "code",
   "execution_count": 8,
   "metadata": {},
   "outputs": [
    {
     "data": {
      "image/png": "[encoded data removed]",
      "text/plain": [
       "<Figure size 432x288 with 1 Axes>"
      ]
     },
     "metadata": {
      "needs_background": "light"
     },
     "output_type": "display_data"
    }
   ],
   "source": [
    "# Set initial parameters\n",
    "alpha = 0.00005\n",
    "theta = np.array([-24,0.2,0.2])\n",
    "n = 100\n",
    " # Run\n",
    "J_vals, theta_vals = gradientDescent(cost, theta, alpha, X, Y, n)\n",
    "# Plot\n",
    "plotCostFunction(J_vals)"
   ]
  },
  {
   "cell_type": "markdown",
   "metadata": {},
   "source": [
    "Now let's define a function to plot what this optimal value of theta looks like as a decision boundary on the data."
   ]
  },
  {
   "cell_type": "code",
   "execution_count": 9,
   "metadata": {},
   "outputs": [],
   "source": [
    "# Plot scatter plot with line of best fit defined by theta\n",
    "def plotWithBestFit(df, theta_min, x_axis, y_axis, label):\n",
    "    \n",
    "    pass_df = df[df[label]==1]\n",
    "    fail_df = df[df[label]==0]\n",
    "    \n",
    "    x_1 = df[x_axis].min()\n",
    "    y_1 = (-1 / theta_min[2]) * ((x_1*theta_min[1]) + theta_min[0])\n",
    "    x_2 = df[x_axis].max()\n",
    "    y_2 = (-1 / theta_min[2]) * ((x_2*theta_min[1]) + theta_min[0])\n",
    "\n",
    "    plt.scatter(pass_df[x_axis], pass_df[y_axis], marker='+', color='black')\n",
    "    plt.scatter(fail_df[x_axis], fail_df[y_axis], marker='o', color='yellow', edgecolors='black')\n",
    "    plt.plot([x_1, x_2], [y_1, y_2], color='blue') \n",
    "    plt.ylabel(y_axis)\n",
    "    plt.xlabel(x_axis)\n",
    "\n",
    "    plt.show()"
   ]
  },
  {
   "cell_type": "code",
   "execution_count": 10,
   "metadata": {},
   "outputs": [
    {
     "data": {
      "image/png": "[encoded data removed]",
      "text/plain": [
       "<Figure size 432x288 with 1 Axes>"
      ]
     },
     "metadata": {
      "needs_background": "light"
     },
     "output_type": "display_data"
    }
   ],
   "source": [
    "theta_min = theta_vals[100]\n",
    "theta_min = np.squeeze(np.asarray(theta_min))\n",
    "\n",
    "plotWithBestFit(df, np.ndarray.tolist(theta_min), 'Exam Score 1', 'Exam Score 2', 'Pass or Fail')"
   ]
  },
  {
   "cell_type": "markdown",
   "metadata": {},
   "source": [
    "Not too bad for a linear fit. Now let's use *scipy's built in optimization function* to find the optimal value of theta."
   ]
  },
  {
   "cell_type": "code",
   "execution_count": 11,
   "metadata": {},
   "outputs": [
    {
     "name": "stdout",
     "output_type": "stream",
     "text": [
      "With this result we get a cost of: 0.203\n"
     ]
    },
    {
     "data": {
      "image/png": "[encoded data removed]",
      "text/plain": [
       "<Figure size 432x288 with 1 Axes>"
      ]
     },
     "metadata": {
      "needs_background": "light"
     },
     "output_type": "display_data"
    }
   ],
   "source": [
    "import scipy.optimize as opt\n",
    "\n",
    "m,n = X_h.shape\n",
    "theta = np.zeros(n)\n",
    "\n",
    "result = opt.fmin_tnc(func=cost, x0=theta, fprime=gradient, args=(X_h, Y))\n",
    "print('With this result we get a cost of: {:.3f}'.format(cost(result[0], X_h, Y)))\n",
    "\n",
    "plotWithBestFit(df, result[0], 'Exam Score 1', 'Exam Score 2', 'Pass or Fail')"
   ]
  },
  {
   "cell_type": "markdown",
   "metadata": {},
   "source": [
    "### Predict\n",
    "\n",
    "Now we can use the model to make a prediction, and in turn test how well our model performs in the training dataset."
   ]
  },
  {
   "cell_type": "code",
   "execution_count": 12,
   "metadata": {},
   "outputs": [
    {
     "name": "stdout",
     "output_type": "stream",
     "text": [
      "accuracy = 89.00%\n"
     ]
    }
   ],
   "source": [
    "def _prediction(X, theta):\n",
    "    prob = sigmoid(X*theta.T)\n",
    "    return [1 if x >= 0.5 else 0 for x in prob]\n",
    "\n",
    "def printAccuracy(X, Y, theta):\n",
    "    theta = np.matrix(theta)\n",
    "    predictions = _prediction(X, theta)\n",
    "    correct = [1 if ((a == 1 and b == 1) or (a == 0 and b == 0)) else 0 for (a, b) in zip(predictions, Y)]\n",
    "    accuracy = (sum(correct) / len(Y)) * 100\n",
    "    print('accuracy = {:.2f}%'.format(accuracy))\n",
    "    \n",
    "printAccuracy(X_h, Y, result[0])"
   ]
  },
  {
   "cell_type": "markdown",
   "metadata": {},
   "source": [
    "## Logistic Regression with Regularization\n",
    "\n",
    "### Model\n",
    "For more complex, non-linear, datasets it is clear that a linear decision boundary will not be the most optimal solution. To implement a better solution we can use additional polynomial terms for features within $X$. We must be careful though, as adding too many polynomial terms will lead to overfitting. To prevent the overfitting problem we can include *regularization* within our model.\n",
    "\n",
    "### Cost Function\n",
    "The cost function with a regularization term is defined below, where $\\lambda$ refers to some regularization constant and $j$ refers to the $j^{th}$ feature in the $\\theta$ matrix.\n",
    "Note here that the sum from $j$ to $n$ starts at 1, indicating that the $j=0$ term does not need regularizing.\n",
    "\n",
    "\\begin{equation*}\n",
    "J(\\theta) = \\frac{1}{m} \\sum_{i=1}^m [\\, -y^{(i)} \\log(h_{\\theta}(x^{(i)})) + (1+y^{(i)})\\log(1-h_{\\theta}(x^{(i)})) ]\\, + \\frac{\\lambda}{2m} \\sum_{j=1}^n \\theta_{j}^{2}\n",
    "\\end{equation*}\n",
    "\n",
    "Similarly as before, we can *vectorize* this equation so it can be impleneted efficiently in code, below is the vectorized form.\n",
    "\n",
    "\\begin{equation*}\n",
    "J(\\theta) = \\frac{1}{m} \\Bigl( -Y^{T}\\log{(H)}-(1-Y)^{T}\\log{(1-H)}\\Bigr) + \\frac{\\lambda}{2m} \\sum_{j=1}^n \\theta_{j}^{2}\n",
    "\\end{equation*}\n",
    "\n",
    "\n",
    "### Gradient \n",
    "The gradient for $j = 0$ is unchanged from the non-regularized cost function, however for $j \\geq 1$ the gradient becomes:\n",
    "\n",
    "\\begin{equation*}\n",
    "\\nabla J(\\theta) = \\Bigl( \\frac{1}{m} \\sum_{i=1}^m (h_{\\theta}(x^{(i)}) - y^{(i)}) x^{(i)} \\Bigr) + \\frac{\\lambda}{m} \\theta_{j}\n",
    "\\end{equation*}\n",
    "\n",
    "In a vectorized form is:\n",
    "\n",
    "\\begin{equation*}\n",
    "\\nabla J(\\theta) = \\frac{1}{m} X^{T}(H-Y) + \\frac{\\lambda}{m} \\theta\n",
    "\\end{equation*}\n",
    "\n",
    "**N.B.** Here the 0th element of $\\theta$ should not be included in the regularization.\n",
    "\n",
    "Now let's implement these in code."
   ]
  },
  {
   "cell_type": "code",
   "execution_count": 13,
   "metadata": {},
   "outputs": [],
   "source": [
    "def costReg(theta, X, Y, lmbda):\n",
    "    # Convert theta from numpy.ndarray to matrix\n",
    "    theta = np.matrix(theta)\n",
    "    # Get hypothesis\n",
    "    h = sigmoid(X*theta.T)\n",
    "    m,n = X.shape\n",
    "    # Get regularized term\n",
    "\n",
    "    reg = (lmbda / (2*m)) * (np.sum(np.square(theta[:,1:n])))\n",
    "    # Calculate cost\n",
    "    J = ((1/m)*((-Y.T * np.log(h)) - ((1-Y).T * np.log(1-h)))) + reg\n",
    "    \n",
    "    return J.item()\n",
    "    \n",
    "def gradientReg(theta, X, Y, lmbda):\n",
    "    # Convert theta from numpy.ndarray to matrix\n",
    "    theta = np.matrix(theta)\n",
    "    # Get hypothesis\n",
    "    h = sigmoid(X*theta.T)\n",
    "    m,n = X.shape\n",
    "    # Get regularized term\n",
    "    reg = (lmbda / m) * (theta.T)\n",
    "    # Calculate gradient\n",
    "    grad = ((1/m)* X.T*(h-Y)) + reg\n",
    "    # Remove regularization from theta 0\n",
    "    grad[0,0] = grad[0,0] - reg[0,0]\n",
    "\n",
    "    return grad"
   ]
  },
  {
   "cell_type": "markdown",
   "metadata": {},
   "source": [
    "### Example\n",
    "\n",
    "We can now test our regularized implementation. First we should visualize some data.\n",
    "\n",
    "Here we have data used to determine whether a microchip gets accepted or rejected based on two independent tests. Clearly we cannot use a linear fit to model the decision boundary for this data."
   ]
  },
  {
   "cell_type": "code",
   "execution_count": 14,
   "metadata": {},
   "outputs": [
    {
     "data": {
      "image/png": "[encoded data removed]",
      "text/plain": [
       "<Figure size 432x288 with 1 Axes>"
      ]
     },
     "metadata": {
      "needs_background": "light"
     },
     "output_type": "display_data"
    }
   ],
   "source": [
    "df = pd.read_csv('data/ex2data2.txt',\n",
    "                 delimiter=',',\n",
    "                 header=None,\n",
    "                 names=['Microchip Test 1','Microchip Test 2','Accept or Reject'])\n",
    "accept_df = df[df['Accept or Reject']==1]\n",
    "reject_df = df[df['Accept or Reject']==0]\n",
    "plt.scatter(accept_df['Microchip Test 1'], accept_df['Microchip Test 2'], marker='+', color='black')\n",
    "plt.scatter(reject_df['Microchip Test 1'], reject_df['Microchip Test 2'], marker='o', color='yellow', edgecolors='black')\n",
    "plt.ylabel('Microchip Test 2 Score')\n",
    "plt.xlabel('Microchip Test 1 Score')\n",
    "plt.show()"
   ]
  },
  {
   "cell_type": "markdown",
   "metadata": {},
   "source": [
    "### Feature Mapping\n",
    "In the above dataset we clearly need to fit a non-linear function, with respect to the features, in order to calculate a reasonable decision boundary. To do this we can create more features by a technique known as *feature mapping*, ie including polynomial terms of the features within our model. Let's create a function that will take our features and map all polynomials upto some nth power."
   ]
  },
  {
   "cell_type": "code",
   "execution_count": 15,
   "metadata": {},
   "outputs": [],
   "source": [
    "def mapFeatures(X, degree):\n",
    "    X_p = np.matrix(np.ones(len(X))).T\n",
    "    for i in range(1, degree+1):\n",
    "        for j in range(0, i+1):\n",
    "            x = np.multiply(np.power(X[:,0], i-j),np.power(X[:,1], j))\n",
    "            X_p = np.append(X_p, x, axis=1)\n",
    "    return X_p"
   ]
  },
  {
   "cell_type": "markdown",
   "metadata": {},
   "source": [
    "Now let's test the functions we've made."
   ]
  },
  {
   "cell_type": "code",
   "execution_count": 16,
   "metadata": {},
   "outputs": [
    {
     "name": "stdout",
     "output_type": "stream",
     "text": [
      "0.6931471805599454\n"
     ]
    }
   ],
   "source": [
    "# First get the variables into matrix form\n",
    "X = np.asmatrix(df[['Microchip Test 1','Microchip Test 2']].to_numpy())\n",
    "Y = np.asmatrix(df['Accept or Reject'].to_numpy())\n",
    "# Transpose Y so the rows represent the number of training examples\n",
    "Y = Y.T\n",
    "\n",
    "# Now map X onto 6 degrees of polynomial\n",
    "X_m = mapFeatures(X, 6)\n",
    "m,n = X_m.shape\n",
    "\n",
    "# Let's initialize theta\n",
    "theta = np.zeros(n)\n",
    "\n",
    "# What's the initial cost?\n",
    "print(costReg(theta=theta, X=X_m, Y=Y, lmbda=1))"
   ]
  },
  {
   "cell_type": "markdown",
   "metadata": {},
   "source": [
    "We can use the scipy optimization code from earlier to find an optimal decision boundary."
   ]
  },
  {
   "cell_type": "code",
   "execution_count": 17,
   "metadata": {},
   "outputs": [
    {
     "name": "stdout",
     "output_type": "stream",
     "text": [
      "With this result we get a cost of: 0.529\n"
     ]
    }
   ],
   "source": [
    "l = 1\n",
    "\n",
    "result = opt.fmin_tnc(func=costReg, x0=theta, fprime=gradientReg, args=(X_m, Y, l))\n",
    "print('With this result we get a cost of: {:.3f}'.format(costReg(result[0], X_m, Y, l)))\n",
    "\n"
   ]
  },
  {
   "cell_type": "code",
   "execution_count": 18,
   "metadata": {},
   "outputs": [
    {
     "name": "stdout",
     "output_type": "stream",
     "text": [
      "accuracy = 83.05%\n"
     ]
    }
   ],
   "source": [
    "theta_min = np.matrix(result[0])\n",
    "printAccuracy(X_m, Y, result[0])"
   ]
  },
  {
   "cell_type": "markdown",
   "metadata": {},
   "source": [
    "Not bad considering the complexity of the data.\n",
    "\n",
    "Now let's plot the decision boundary to see what it's like"
   ]
  },
  {
   "cell_type": "code",
   "execution_count": 19,
   "metadata": {},
   "outputs": [
    {
     "data": {
      "image/png": "[encoded data removed]",
      "text/plain": [
       "<Figure size 432x288 with 1 Axes>"
      ]
     },
     "metadata": {
      "needs_background": "light"
     },
     "output_type": "display_data"
    }
   ],
   "source": [
    "def plotContour(theta):\n",
    "    \n",
    "    plt.scatter(accept_df['Microchip Test 1'], accept_df['Microchip Test 2'], marker='+', color='black')\n",
    "    plt.scatter(reject_df['Microchip Test 1'], reject_df['Microchip Test 2'], marker='o', color='yellow', edgecolors='black')\n",
    "    plt.ylabel('Microchip Test 2 Score')\n",
    "    plt.xlabel('Microchip Test 1 Score')\n",
    "    \n",
    "    u = np.linspace(-1, 1.5, 50)\n",
    "    v = np.linspace(-1, 1.5, 50)\n",
    "\n",
    "    z = np.zeros((len(u), len(v)))\n",
    "    in_u = np.asmatrix(u).T\n",
    "    in_v = np.asmatrix(v).T\n",
    "\n",
    "    # Evaluate z = theta*x over the grid\n",
    "    for i in range(0,len(u)):\n",
    "        for j in range(0,len(v)):\n",
    "            some_X = np.hstack((in_u[i,:], in_v[j,:]))\n",
    "            z[i,j] = mapFeatures(some_X, 6)*theta.T\n",
    "\n",
    "    # Transpose Z\n",
    "    z = z.T\n",
    "    \n",
    "    plt.contour(u, v, z, 0)\n",
    "    plt.show()\n",
    "\n",
    "plotContour(theta_min)"
   ]
  },
  {
   "cell_type": "code",
   "execution_count": null,
   "metadata": {},
   "outputs": [],
   "source": []
  }
 ],
 "metadata": {
  "kernelspec": {
   "display_name": "Python 3",
   "language": "python",
   "name": "python3"
  },
  "language_info": {
   "codemirror_mode": {
    "name": "ipython",
    "version": 3
   },
   "file_extension": ".py",
   "mimetype": "text/x-python",
   "name": "python",
   "nbconvert_exporter": "python",
   "pygments_lexer": "ipython3",
   "version": "3.7.4"
  }
 },
 "nbformat": 4,
 "nbformat_minor": 2
}
