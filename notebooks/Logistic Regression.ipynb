{
 "cells": [
  {
   "cell_type": "markdown",
   "metadata": {},
   "source": [
    "# Logistic Regression\n",
    "\n",
    "This notebook will go through a vectorized implementation of Logistic Regression, as well as implementing Regularization within the model, and feature mapping."
   ]
  },
  {
   "cell_type": "markdown",
   "metadata": {},
   "source": [
    "## Logistic Regression with Vectorized Gradient Descent\n",
    "\n",
    "### Logistic Regression\n",
    "\n",
    "In logistic regression, we are concerned with binary classification. That is to say we can use logistic regression to classify a dataset as a *member* of a class, or *not a member*. For example, we can classify whether a series of exam scores accumulated to an overall 'pass' or 'fail', or whether a microchip was deemed 'working' or 'not working' given a set of parameters (features) describing it.\n",
    "\n",
    "We formalize logistic regression with the equation below. Here $h_{\\theta}(x)$ is our hypothesis, or 'guess' as to which of the two classes a dataset falls into. $x^{(i,j)}$ is our $i^{th}$ datapoint for the $j^{th}$ feature and $\\theta^{(j)}$ is the weight pertaining to that feature.\n",
    "\n",
    "\\begin{equation*}\n",
    "h_{\\theta}(x^{(i)}) = \\sum_{j=1}^{n} g( \\theta^{(j)} x^{(i,j)})\n",
    "\\end{equation*}\n",
    "Where the function $g$ is the sigmoid function defined below.\n",
    "\\begin{equation*}\n",
    "g(z) = \\frac{1}{1 + e^{-z}}\n",
    "\\end{equation*}\n",
    "\n",
    "### Cost Function\n",
    "The cost function $J(\\theta)$, which is a measure of how accurate or inaccurate our model is, is defined below.\n",
    "Here $x^{(i)}$ is our $i^{th}$ dataset, $y^{(i)}$ is the binary label of the $i^{th}$ dataset, and $m$ is the number of datasets.\n",
    "\n",
    "\\begin{equation*}\n",
    "J(\\theta) = \\frac{1}{m} \\sum_{i=1}^m \\Bigl( -y^{(i)} \\log(h_{\\theta}(x^{(i)})) - (1-y^{(i)})\\log(1-h_{\\theta}(x^{(i)})) \\Bigr)\n",
    "\\end{equation*}\n",
    "\n",
    "### Gradient\n",
    "The gradient $\\nabla J(\\theta)$ of the cost function is defined as:\n",
    "\n",
    "\\begin{equation*}\n",
    "\\nabla J(\\theta) = \\frac{1}{m} \\sum_{i=1}^m (h_{\\theta}(x^{(i)}) - y^{(i)}) x^{(i)}\n",
    "\\end{equation*}\n",
    "\n",
    "### Gradient Descent\n",
    "In gradient descent, we seek to decrease the cost function $J(\\theta)$ by subtracting the gradient (multiplied by some learning rate $\\alpha$) from $\\theta$. Formally this is represented in the equation below.\n",
    "\n",
    "With a given weight $\\theta_{j}$ for a feature $j$, a step in the negative gradient direction is given by:\n",
    "\n",
    "\\begin{equation*}\n",
    "\\theta_{j} = \\theta_{j} - \\alpha \\nabla J(\\theta)\n",
    "\\end{equation*}\n",
    "\n",
    "### Vectorization\n",
    "The above equations can be vectorized in order to efficiently implement them in code. The cost function $J$ in a vectorized form is:\n",
    "\n",
    "\\begin{equation*}\n",
    "J = \\frac{1}{m} \\Bigl( -Y_{(1,m)}^{T}\\log{(H_{(m,1)})}-(1-Y_{(m,1)})^{T}\\log{(1-H_{(m,1)})}\\Bigr)\n",
    "\\end{equation*}\n",
    "\n",
    "Where the vectorized hypothesis is defined as:\n",
    "\n",
    "\\begin{equation*}\n",
    "H_{(m,1)} = g(X_{(m,n)} \\cdot \\theta_{(n,1)})\n",
    "\\end{equation*}\n",
    "\n",
    "The gradient $\\nabla J$ in a vectorized form becomes:\n",
    "\n",
    "\\begin{equation*}\n",
    "\\nabla J_{(n,1)} = \\frac{1}{m} X_{(n,m)}^{T}(H_{(m,1)}-Y_{(m,1)})\n",
    "\\end{equation*}\n",
    "\n",
    "Whilst a step of gradient descent is:\n",
    "\n",
    "\\begin{equation*}\n",
    "\\theta_{(n,1)} = \\theta_{(n,1)} - \\alpha \\nabla J_{(n,1)}\n",
    "\\end{equation*}\n",
    "\n",
    "- $X_{(m,n)}$ is the matrix representing the $n$ features for all datapoints $m$.\n",
    "- $\\theta_{(n,1)}$ is the transpose of the matrix representing the weights for the $n$ features.\n",
    "- $Y_{(m,1)}$ is the matrix representing the outputs for all datapoints $m$.\n",
    "\n",
    "### Implementation\n",
    "Below is the sigmoid function, vectorized cost function, and vectorized gradient descent implemented in python."
   ]
  },
  {
   "cell_type": "code",
   "execution_count": 1,
   "metadata": {},
   "outputs": [],
   "source": [
    "import numpy as np\n",
    "\n",
    "def check_theta(theta, n):\n",
    "    '''Ensure theta is an np.matrix and the right shape'''\n",
    "    # Convert theta from numpy.ndarray to matrix\n",
    "    if not isinstance(theta, np.matrix):\n",
    "        theta = np.asmatrix(theta)\n",
    "        \n",
    "    # Ensure theta has the correct dimensions\n",
    "    if theta.shape != (n, 1):\n",
    "        theta = theta.reshape((n, 1))\n",
    "    \n",
    "    return theta\n",
    "\n",
    "def sigmoid(z):\n",
    "    '''Calculates the sigmoid for a given array'''\n",
    "    return (1 / (1 + np.exp(-z)))\n",
    "\n",
    "def cost(theta, X, Y):\n",
    "    '''Calculate cost of logistic regression weight\n",
    "    \n",
    "    Args:\n",
    "        theta (np.ndarray): weights for logistic regression of size n\n",
    "        X (np.matrix): (m,n) matrix containing dataset\n",
    "        Y (np.matrix): (m,1) matrix containing labelled outputs for dataset X\n",
    "        \n",
    "    Returns:\n",
    "        J (float): Cost\n",
    "    '''\n",
    "    # Dataset size\n",
    "    m, n = X.shape\n",
    "\n",
    "    # Check theta\n",
    "    theta = check_theta(theta, n)\n",
    "\n",
    "    # Get hypothesis\n",
    "    H = sigmoid(np.dot(X, theta))\n",
    "    \n",
    "    # Calculate cost\n",
    "    first = np.dot(-Y.T, np.log(H))\n",
    "    second = np.dot((1-Y).T, np.log(1-H))\n",
    "    \n",
    "    J = (1/m)*(first - second)\n",
    "\n",
    "    return J.item()\n",
    "\n",
    "def gradient(theta, X, Y):\n",
    "    '''Calculates the gradient for a given theta\n",
    "    \n",
    "    theta (np.ndarray): weights for logistic regression of size n\n",
    "        X (np.matrix): (m,n) matrix containing dataset\n",
    "        Y (np.matrix): (m,1) matrix containing labelled outputs for dataset X\n",
    "        \n",
    "    Returns:\n",
    "        J (np.matrix): (n,1) matrix containing gradients of theta\n",
    "    '''\n",
    "    # Dataset size\n",
    "    m, n = X.shape\n",
    "    \n",
    "    # Check theta\n",
    "    theta = check_theta(theta, n)\n",
    "        \n",
    "    # Get hypothesis\n",
    "    H = sigmoid(np.dot(X, theta))\n",
    "\n",
    "    # Calculate gradient\n",
    "    grad = (1/m) * np.dot(X.T, H-Y)\n",
    "\n",
    "    return grad\n",
    "\n",
    "def gradient_descent(X, Y, cost_func, alpha, delta=0.000001, max_iter=5000, initial_theta=None, **cost_kwargs):\n",
    "    '''Vectorized Gradient Descent\n",
    "    \n",
    "    Args:\n",
    "        X (np.matrix): (m,n) matrix containing dataset\n",
    "        Y (np.matrix): (m,1) matrix containing labelled outputs for dataset X\n",
    "        alpha (float): Learning rate\n",
    "        cost_func (function): function used to calculate the cost of the model.\n",
    "        delta (float): Convergence value to stop at, when difference between last and second to\n",
    "            last cost is smaller than this, it is considered converged.\n",
    "        max_iter (int): Maximum number of iterations to run through gradient descent for\n",
    "        theta (np.matrix): (n,1) Starting theta (can be omitted and will initialize zeros)\n",
    "        cost_kwargs (Dict): Additional key-word arguments to be passed to the cost_func\n",
    "        \n",
    "    Returns:\n",
    "        J_vals (List[float]): List of costs for each iteration\n",
    "        theta_vals (List[np.matrix]): List of theta values for each iteration\n",
    "    '''\n",
    "    # Initialize lists to store iteration results\n",
    "    theta_vals = []\n",
    "    J_vals = []\n",
    "\n",
    "    m, n = X.shape\n",
    "    \n",
    "    # Initialize theta\n",
    "    if initial_theta is None:\n",
    "        theta = np.zeros((n,1))\n",
    "        theta = np.asmatrix(theta)\n",
    "    else:\n",
    "        theta = check_theta(initial_theta, n)\n",
    "\n",
    "    theta_vals.append(theta)\n",
    "    J_vals.append(cost_func(theta, X, Y, **cost_kwargs))\n",
    "\n",
    "    # Start iterations\n",
    "    for idx in range(1,max_iter):\n",
    "        theta = theta - (alpha * gradient(theta, X, Y))\n",
    "\n",
    "        J_vals.append(cost_func(theta, X, Y, **cost_kwargs))\n",
    "        theta_vals.append(theta)\n",
    "        \n",
    "        if (J_vals[-2] - J_vals[-1]) < delta:\n",
    "            print('Difference is smaller than {} after {} iterations, stopping.'.format(delta, idx))\n",
    "            print('Final cost: {:.3f}'.format(J_vals[-1]))\n",
    "            return J_vals, theta_vals\n",
    "        \n",
    "    print('Maximum iteration reached: {}'.format(max_iter))\n",
    "    print('Final cost: {:.3f}'.format(J_vals[-1]))\n",
    "    \n",
    "    return J_vals, theta_vals"
   ]
  },
  {
   "cell_type": "markdown",
   "metadata": {},
   "source": [
    "### Example\n",
    "\n",
    "Now that we have defined our functions, let's import some data and use these functions to classify our data with a decision boundary. \n",
    "\n",
    "#### Exam Scores\n",
    "First let's plot the data.\n",
    "\n",
    "Below we are looking the overall pass/fail rate of students given two of their exam scores. The Datapoints marked in a yellow circle have failed, whilst the black crosses have passed."
   ]
  },
  {
   "cell_type": "code",
   "execution_count": 2,
   "metadata": {},
   "outputs": [
    {
     "data": {
      "image/png": "[encoded data removed]",
      "text/plain": [
       "<Figure size 432x288 with 1 Axes>"
      ]
     },
     "metadata": {
      "needs_background": "light"
     },
     "output_type": "display_data"
    }
   ],
   "source": [
    "import pandas as pd\n",
    "\n",
    "from plotting.logistic_regression import plot_data\n",
    "%matplotlib inline\n",
    "\n",
    "df = pd.read_csv('data/ex2data1.txt',delimiter=',',\n",
    "                 header=None,\n",
    "                 names=['Exam Score 1','Exam Score 2','Pass or Fail'])\n",
    "\n",
    "plot_data(df)"
   ]
  },
  {
   "cell_type": "markdown",
   "metadata": {},
   "source": [
    "#### Run\n",
    "Now let's run gradient descent on this dataset. \n",
    "\n",
    "First we should move our data into appropriate data structures, as well as adding a bias feature $\\theta_{0}$."
   ]
  },
  {
   "cell_type": "code",
   "execution_count": 3,
   "metadata": {},
   "outputs": [],
   "source": [
    "X = np.asmatrix(df[['Exam Score 1', 'Exam Score 2']].to_numpy())\n",
    "X = np.hstack((np.ones((len(X),1)), X))\n",
    "m,n = X.shape\n",
    "Y = np.asmatrix(df['Pass or Fail'].to_numpy()).T"
   ]
  },
  {
   "cell_type": "markdown",
   "metadata": {},
   "source": [
    "We can now test our implementation, let's start by calculating the cost of some initial $\\theta$."
   ]
  },
  {
   "cell_type": "code",
   "execution_count": 4,
   "metadata": {},
   "outputs": [
    {
     "name": "stdout",
     "output_type": "stream",
     "text": [
      "The cost of a theta [0. 0. 0.] is: 0.693\n",
      "The gradient at this point is: \n",
      "[[ -0.1       ]\n",
      " [-12.00921659]\n",
      " [-11.26284221]]\n",
      "\n",
      "The cost of a theta [-24.    0.2   0.2] is: 0.218\n",
      "The gradient at this point is: \n",
      "[[0.04290299]\n",
      " [2.56623412]\n",
      " [2.64679737]]\n",
      "\n"
     ]
    }
   ],
   "source": [
    "# Initialize theta\n",
    "theta = np.zeros(n)\n",
    "# Calculate the cost and the gradient\n",
    "J = cost(theta, X, Y)\n",
    "grad = gradient(theta, X, Y)\n",
    "print('The cost of a theta {0} is: {1:.3f}'.format(theta,J))\n",
    "print('The gradient at this point is: \\n{0}\\n'.format(grad))\n",
    "\n",
    "theta = np.array([-24, 0.2, 0.2])\n",
    "J = cost(theta, X, Y)\n",
    "grad = gradient(theta, X, Y)\n",
    "print('The cost of a theta {0} is: {1:.3f}'.format(theta,J))\n",
    "print('The gradient at this point is: \\n{0}\\n'.format(grad))"
   ]
  },
  {
   "cell_type": "markdown",
   "metadata": {},
   "source": [
    "Now let's try a Gradient Descent implementation. Note that starting with a $\\theta$ of zeros will not converge to the best linear fit. Let's start with something closer to an optimal value.\n",
    "\n"
   ]
  },
  {
   "cell_type": "code",
   "execution_count": 5,
   "metadata": {},
   "outputs": [
    {
     "name": "stdout",
     "output_type": "stream",
     "text": [
      "Difference is smaller than 1e-06 after 146 iterations, stopping.\n",
      "Final cost: 0.204\n"
     ]
    },
    {
     "data": {
      "image/png": "[encoded data removed]",
      "text/plain": [
       "<Figure size 432x288 with 1 Axes>"
      ]
     },
     "metadata": {
      "needs_background": "light"
     },
     "output_type": "display_data"
    }
   ],
   "source": [
    "from plotting.logistic_regression import plot_cost_function\n",
    "\n",
    "# Set initial parameters\n",
    "alpha = 0.00005\n",
    "theta = np.array([-24,0.2,0.2])\n",
    "\n",
    "# Run\n",
    "J_vals, theta_vals = gradient_descent(X, Y, cost, alpha, initial_theta=theta)\n",
    "\n",
    "# Plot\n",
    "plot_cost_function(J_vals)"
   ]
  },
  {
   "cell_type": "markdown",
   "metadata": {},
   "source": [
    "Now let's define a function to plot what this optimal value of theta looks like as a decision boundary on the data."
   ]
  },
  {
   "cell_type": "code",
   "execution_count": 6,
   "metadata": {},
   "outputs": [
    {
     "data": {
      "image/png": "[encoded data removed]",
      "text/plain": [
       "<Figure size 432x288 with 1 Axes>"
      ]
     },
     "metadata": {
      "needs_background": "light"
     },
     "output_type": "display_data"
    }
   ],
   "source": [
    "from plotting.logistic_regression import plot_best_fit\n",
    "\n",
    "plot_best_fit(df, theta_vals[-1])"
   ]
  },
  {
   "cell_type": "markdown",
   "metadata": {},
   "source": [
    "Not too bad for a linear fit."
   ]
  },
  {
   "cell_type": "markdown",
   "metadata": {},
   "source": [
    "### Predict\n",
    "\n",
    "Now we can use the model to make a prediction, and in turn test how well our model performs in the training dataset."
   ]
  },
  {
   "cell_type": "code",
   "execution_count": 7,
   "metadata": {},
   "outputs": [
    {
     "name": "stdout",
     "output_type": "stream",
     "text": [
      "accuracy = 90.00%\n"
     ]
    }
   ],
   "source": [
    "def get_accuracy(X, Y, theta):\n",
    "    '''Gets accuracy of model on training dataset\n",
    "    \n",
    "    Args:\n",
    "        X (np.matrix): (m,n) training dataset\n",
    "        Y (np.matrix): (m,1) labels for dataset\n",
    "        theta (np.matrix): (n,1) weights of model\n",
    "    '''\n",
    "    # Get data sizes\n",
    "    m, n = X.shape\n",
    "    \n",
    "    # Check theta\n",
    "    theta = check_theta(theta, n)\n",
    "    \n",
    "    # Get predictions\n",
    "    prob = sigmoid(np.dot(X, theta))\n",
    "    predictions = [1 if x >= 0.5 else 0 for x in prob]\n",
    "    \n",
    "    # Get accuracy\n",
    "    correct = [1 if ((a == 1 and b == 1) or (a == 0 and b == 0)) else 0 for (a, b) in zip(predictions, Y)]\n",
    "    accuracy = (sum(correct) / len(Y)) * 100\n",
    "    print('accuracy = {:.2f}%'.format(accuracy))\n",
    "    \n",
    "get_accuracy(X, Y, theta_vals[-1])"
   ]
  },
  {
   "cell_type": "markdown",
   "metadata": {},
   "source": [
    "## Logistic Regression with Regularization\n",
    "\n",
    "For more complex, non-linear, datasets it is clear that a linear decision boundary will not be the most optimal solution. To implement a better solution we can use additional polynomial terms for features within $X$. We must be careful though, as adding too many polynomial terms will lead to overfitting. To prevent the overfitting problem we can include *regularization* within our model.\n",
    "\n",
    "### Cost Function\n",
    "The cost function with a regularization term $J_{reg}(\\theta)$ is defined below, where $\\lambda$ refers to some regularization constant and $J(\\theta)$ refers to cost function previously defined.\n",
    "\n",
    "Note here that the sum over the regularization term starts at 1, indicating that the $j=0$ term (the bias unit) does not need regularizing.\n",
    "\n",
    "\\begin{equation*}\n",
    "J_{reg}(\\theta) = J(\\theta) + \\frac{\\lambda}{2m} \\sum_{j=1}^n \\theta_{j}^{2}\n",
    "\\end{equation*}\n",
    "\n",
    "Similarly as before, we can *vectorize* this equation so it can be impleneted efficiently in code, below is the vectorized form.\n",
    "\n",
    "\\begin{equation*}\n",
    "J_{reg} = J + \\frac{\\lambda}{2m} \\sum_{j=1}^n \\theta_{j}^{2}\n",
    "\\end{equation*}\n",
    "\n",
    "\n",
    "### Gradient \n",
    "The gradient for $j = 0$ is unchanged from the non-regularized cost function, however for $j \\geq 1$ the gradient becomes:\n",
    "\n",
    "\\begin{equation*}\n",
    "\\nabla J(\\theta) = \\Bigl( \\frac{1}{m} \\sum_{i=1}^m (h_{\\theta}(x^{(i)}) - y^{(i)}) x^{(i)} \\Bigr) + \\frac{\\lambda}{m} \\theta_{j}\n",
    "\\end{equation*}\n",
    "\n",
    "In a vectorized form is:\n",
    "\n",
    "\\begin{equation*}\n",
    "\\nabla J_{(n,1)} = \\frac{1}{m} X_{(n,m)}^{T}(H_{(m,1)}-Y_{(m,1)}) + \\frac{\\lambda}{m} \\theta_{(n,1)}\n",
    "\\end{equation*}\n",
    "\n",
    "**N.B.** Here the 0th element of $\\theta$ should not be included in the regularization.\n",
    "\n",
    "### Implementation\n",
    "Below is the reguarlized cost and gradient implemented in python."
   ]
  },
  {
   "cell_type": "code",
   "execution_count": 8,
   "metadata": {},
   "outputs": [],
   "source": [
    "def cost_reg(theta, X, Y, lmbda):\n",
    "    '''Calculate regularized cost of logistic regression weight\n",
    "    \n",
    "    Args:\n",
    "        theta (np.ndarray): weights for logistic regression of size n\n",
    "        X (np.matrix): (m,n) matrix containing dataset\n",
    "        Y (np.matrix): (m,1) matrix containing labelled outputs for dataset X\n",
    "        lmbda (float): Regularization term\n",
    "        \n",
    "    Returns:\n",
    "        J (float): Cost\n",
    "    '''\n",
    "    # Get data sizes\n",
    "    m, n = X.shape\n",
    "    \n",
    "    # Check theta\n",
    "    theta = check_theta(theta, n)\n",
    "    \n",
    "    # Get hypothesis\n",
    "    H = sigmoid(np.dot(X, theta))\n",
    "    \n",
    "    # Calculate cost\n",
    "    first = np.dot(-Y.T, np.log(H))\n",
    "    second = np.dot((1-Y).T, np.log(1-H))\n",
    "    reg = (lmbda / (2*m)) * (np.sum(np.square(theta[:,1:n])))\n",
    "    \n",
    "    J = (1/m)*(first - second) + reg\n",
    "\n",
    "    return J.item()\n",
    "    \n",
    "def gradient_reg(theta, X, Y, lmbda):\n",
    "    '''Calculates the regularized gradient for a given theta\n",
    "    \n",
    "    theta (np.ndarray): weights for logistic regression of size n\n",
    "        X (np.matrix): (m,n) matrix containing dataset\n",
    "        Y (np.matrix): (m,1) matrix containing labelled outputs for dataset X\n",
    "        lmbda (float): Regularization term\n",
    "        \n",
    "    Returns:\n",
    "        J (np.matrix): (n,1) matrix containing gradients of theta\n",
    "    \n",
    "    '''\n",
    "    # Get data sizes\n",
    "    m, n = X.shape\n",
    "    \n",
    "    # Check theta\n",
    "    theta = check_theta(theta, n)\n",
    "    \n",
    "    # Get hypothesis\n",
    "    H = sigmoid(np.dot(X, theta))\n",
    "\n",
    "    # Get regularized term\n",
    "    reg = (lmbda / m) * (theta.T)\n",
    "    \n",
    "    # Calculate gradient \n",
    "    grad = (1/m) * np.dot(X.T, H-Y) + reg\n",
    "    \n",
    "    # Remove regularization from theta 0\n",
    "    grad[0,0] = grad[0,0] - reg[0,0]\n",
    "\n",
    "    return grad"
   ]
  },
  {
   "cell_type": "markdown",
   "metadata": {},
   "source": [
    "### Example\n",
    "We can now test our regularized implementation. \n",
    "\n",
    "#### Microchip Manufacturer\n",
    "In this dataset we are determining whether a manufactured microchip gets accepted or rejected based on two independent tests.\n",
    "\n",
    "By visualizing the data we can see that we cannot use a linear fit to model the decision boundary for this data."
   ]
  },
  {
   "cell_type": "code",
   "execution_count": 9,
   "metadata": {},
   "outputs": [
    {
     "data": {
      "image/png": "[encoded data removed]",
      "text/plain": [
       "<Figure size 432x288 with 1 Axes>"
      ]
     },
     "metadata": {
      "needs_background": "light"
     },
     "output_type": "display_data"
    }
   ],
   "source": [
    "from plotting.logistic_regression import plot_microchip_data\n",
    "\n",
    "df = pd.read_csv('data/ex2data2.txt',\n",
    "                 delimiter=',',\n",
    "                 header=None,\n",
    "                 names=['Microchip Test 1','Microchip Test 2','Accept or Reject'])\n",
    "\n",
    "plot_microchip_data(df)"
   ]
  },
  {
   "cell_type": "markdown",
   "metadata": {},
   "source": [
    "## Feature Mapping\n",
    "In the above dataset we clearly need to fit a non-linear function, with respect to the features, in order to calculate a reasonable decision boundary. To do this we can create more features by a technique known as *feature mapping*, ie including polynomial terms of the features within our model. Let's create a function that will take our features and map all polynomials upto some nth power."
   ]
  },
  {
   "cell_type": "code",
   "execution_count": 10,
   "metadata": {},
   "outputs": [],
   "source": [
    "def map_features(X, degree):\n",
    "    '''Calculates polynomial features given a dataset\n",
    "    \n",
    "    Args:\n",
    "        X (np.matrix): (m,n) training dataset\n",
    "        degree (n): polynomial degree.\n",
    "    \n",
    "    Returns:\n",
    "        X_p (np.matrix): training dataset with additional polynomial features\n",
    "    '''\n",
    "    X_p = np.matrix(np.ones(len(X))).T\n",
    "    for i in range(1, degree+1):\n",
    "        for j in range(0, i+1):\n",
    "            x = np.multiply(np.power(X[:,0], i-j),np.power(X[:,1], j))\n",
    "            X_p = np.append(X_p, x, axis=1)\n",
    "    return X_p"
   ]
  },
  {
   "cell_type": "markdown",
   "metadata": {},
   "source": [
    "Now let's test our implementation."
   ]
  },
  {
   "cell_type": "code",
   "execution_count": 11,
   "metadata": {},
   "outputs": [
    {
     "name": "stdout",
     "output_type": "stream",
     "text": [
      "Our initial cost is 0.693\n"
     ]
    }
   ],
   "source": [
    "# First get the variables into matrix form\n",
    "X = np.asmatrix(df[['Microchip Test 1','Microchip Test 2']].to_numpy())\n",
    "Y = np.asmatrix(df['Accept or Reject'].to_numpy()).T\n",
    "\n",
    "# Now map X onto 6 degrees of polynomial\n",
    "X = map_features(X, 6)\n",
    "\n",
    "# Add the bias unit\n",
    "X = np.hstack((np.ones((len(X),1)), X))\n",
    "m,n = X.shape\n",
    "\n",
    "# Let's initialize theta\n",
    "theta = np.zeros(n)\n",
    "\n",
    "print('Our initial cost is {0:.3f}'.format(cost_reg(theta, X, Y, 1)))"
   ]
  },
  {
   "cell_type": "markdown",
   "metadata": {},
   "source": [
    "We can use the scipy optimization code from earlier to find an optimal decision boundary."
   ]
  },
  {
   "cell_type": "code",
   "execution_count": 12,
   "metadata": {},
   "outputs": [
    {
     "name": "stdout",
     "output_type": "stream",
     "text": [
      "Maximum iteration reached: 10000\n",
      "Final cost: 0.448\n"
     ]
    }
   ],
   "source": [
    "J_vals, theta_vals = gradient_descent(X, Y, cost_reg, 0.01, max_iter=10000, lmbda=1)"
   ]
  },
  {
   "cell_type": "code",
   "execution_count": 13,
   "metadata": {},
   "outputs": [
    {
     "data": {
      "image/png": "[encoded data removed]",
      "text/plain": [
       "<Figure size 432x288 with 1 Axes>"
      ]
     },
     "metadata": {
      "needs_background": "light"
     },
     "output_type": "display_data"
    },
    {
     "name": "stdout",
     "output_type": "stream",
     "text": [
      "accuracy = 83.05%\n"
     ]
    }
   ],
   "source": [
    "plot_cost_function(J_vals)\n",
    "\n",
    "get_accuracy(X, Y, theta_vals[-1])"
   ]
  },
  {
   "cell_type": "markdown",
   "metadata": {},
   "source": [
    "Not bad considering the complexity of the data, Now let's plot the decision boundary to see how well the line fits the data."
   ]
  },
  {
   "cell_type": "code",
   "execution_count": 14,
   "metadata": {},
   "outputs": [
    {
     "data": {
      "image/png": "[encoded data removed]",
      "text/plain": [
       "<Figure size 432x288 with 1 Axes>"
      ]
     },
     "metadata": {
      "needs_background": "light"
     },
     "output_type": "display_data"
    }
   ],
   "source": [
    "from plotting.logistic_regression import plot_contour\n",
    "\n",
    "plot_contour(theta_vals[-1], df)"
   ]
  }
 ],
 "metadata": {
  "kernelspec": {
   "display_name": "Python 3",
   "language": "python",
   "name": "python3"
  },
  "language_info": {
   "codemirror_mode": {
    "name": "ipython",
    "version": 3
   },
   "file_extension": ".py",
   "mimetype": "text/x-python",
   "name": "python",
   "nbconvert_exporter": "python",
   "pygments_lexer": "ipython3",
   "version": "3.7.4"
  }
 },
 "nbformat": 4,
 "nbformat_minor": 2
}
