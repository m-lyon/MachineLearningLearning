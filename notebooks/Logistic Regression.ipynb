{
 "cells": [
  {
   "cell_type": "markdown",
   "metadata": {},
   "source": [
    "# Logistic Regression\n",
    "\n",
    "This notebook will go through a machine learning implementation of Logistic Regression, as well as implementing Regularization within the model."
   ]
  },
  {
   "cell_type": "markdown",
   "metadata": {},
   "source": [
    "### Setup\n",
    "\n",
    "First let's import some data, and view it."
   ]
  },
  {
   "cell_type": "code",
   "execution_count": 9,
   "metadata": {},
   "outputs": [
    {
     "data": {
      "image/png": "[encoded data removed]",
      "text/plain": [
       "<Figure size 432x288 with 1 Axes>"
      ]
     },
     "metadata": {
      "needs_background": "light"
     },
     "output_type": "display_data"
    }
   ],
   "source": [
    "import numpy as np\n",
    "import matplotlib.pyplot as plt\n",
    "import pandas as pd\n",
    "%matplotlib inline\n",
    "\n",
    "data = np.genfromtxt('data/ex2data1.txt', delimiter=',')\n",
    "df = pd.read_csv('data/ex2data1.txt',delimiter=',',\n",
    "                 header=None,\n",
    "                 names=['Exam Score 1','Exam Score 2','Pass or Fail'])\n",
    "pass_df = df[df['Pass or Fail']==1]\n",
    "fail_df = df[df['Pass or Fail']==0]\n",
    "\n",
    "plt.scatter(pass_df['Exam Score 1'], pass_df['Exam Score 2'], marker='+', color='black')\n",
    "plt.scatter(fail_df['Exam Score 1'], fail_df['Exam Score 2'], marker='o', color='yellow', edgecolors='black')\n",
    "plt.ylabel('Exam 2 Score')\n",
    "plt.xlabel('Exam 1 Score')\n",
    "plt.show()"
   ]
  },
  {
   "cell_type": "markdown",
   "metadata": {},
   "source": [
    "Now let's convert our data into a numpy matrix, so we can easily vectorize our calculations."
   ]
  },
  {
   "cell_type": "code",
   "execution_count": 15,
   "metadata": {},
   "outputs": [],
   "source": [
    "X = np.asmatrix(df[['Exam Score 1', 'Exam Score 2']].to_numpy())\n",
    "Y = np.asmatrix(df['Pass or Fail'].to_numpy())\n",
    "# Transpose Y so the rows represent the number of training examples\n",
    "Y = Y.T\n"
   ]
  },
  {
   "cell_type": "markdown",
   "metadata": {},
   "source": [
    "In Logistic Regression our hypothesis function is defined as:\n",
    "\\begin{equation*}\n",
    "h_\\theta(x) = g(\\theta^Tx)\n",
    "\\end{equation*}\n",
    "Where the function g is the sigmoid function:\n",
    "\\begin{equation*}\n",
    "g(z) = \\frac{1}{1+e^{-z}}\n",
    "\\end{equation*}\n",
    "\n",
    "In code this is:"
   ]
  },
  {
   "cell_type": "code",
   "execution_count": 16,
   "metadata": {},
   "outputs": [],
   "source": [
    "def sigmoid(z):\n",
    "   return (1 / (1 + np.exp(-z)))"
   ]
  },
  {
   "cell_type": "markdown",
   "metadata": {},
   "source": [
    "Now let's implement this in a cost function"
   ]
  },
  {
   "cell_type": "code",
   "execution_count": 28,
   "metadata": {},
   "outputs": [],
   "source": [
    "def costFunction(theta, X, Y):\n",
    "    # Get hypothesis\n",
    "    h = sigmoid(X*theta)\n",
    "    #h = X*theta\n",
    "    # Calculate cost\n",
    "    J = (1/m)*(-Y.T * np.log(h) - (1-Y).T * np.log(1-h))\n",
    "    \n",
    "    # Calculate gradient\n",
    "    grad = (1/m)* X.T*(h-Y)\n",
    "    \n",
    "    return J, grad"
   ]
  },
  {
   "cell_type": "code",
   "execution_count": 33,
   "metadata": {},
   "outputs": [
    {
     "name": "stdout",
     "output_type": "stream",
     "text": [
      "[[0.69314718]]\n",
      "[[ -0.1       ]\n",
      " [-12.00921659]\n",
      " [-11.26284221]]\n",
      "[[0.21833019]]\n",
      "[[0.04290299]\n",
      " [2.56623412]\n",
      " [2.64679737]]\n"
     ]
    }
   ],
   "source": [
    "# TODO: check that above is correct and works\n",
    "# Initialize variables\n",
    "\n",
    "# add column of 1s\n",
    "ones = np.transpose(np.matrix(np.ones(len(X))))\n",
    "X_h = np.hstack((ones, X))\n",
    "m,n = X.shape\n",
    "\n",
    "theta = np.zeros((X_h.shape[1],1))\n",
    "\n",
    "J, grad = costFunction(theta, X_h, Y)\n",
    "print(J)\n",
    "print(grad)\n",
    "\n",
    "theta = np.matrix('-24; 0.2; 0.2')\n",
    "J, grad = costFunction(theta, X_h, Y)\n",
    "print(J)\n",
    "print(grad)"
   ]
  },
  {
   "cell_type": "markdown",
   "metadata": {},
   "source": [
    "Now let's try this in a gradient descent implementation."
   ]
  },
  {
   "cell_type": "code",
   "execution_count": null,
   "metadata": {},
   "outputs": [],
   "source": [
    "def gradientDescent(costFunction, theta, X, Y, n):\n",
    "    \n",
    "    # Add column of 1s to our X matrix\n",
    "    ones = np.transpose(np.matrix(np.ones(len(X))))\n",
    "    X = np.hstack((ones, X))\n",
    "    \n",
    "    # Initialize theta as zeros\n",
    "    theta = np.zeros((X.shape[1],1))\n",
    "    theta_vals = [np.asmatrix(theta)]\n",
    "    \n",
    "    J_vals = np.empty(n+1)\n",
    "    J_vals[0], grad = costFunction(theta, X, Y)"
   ]
  }
 ],
 "metadata": {
  "kernelspec": {
   "display_name": "Python 3",
   "language": "python",
   "name": "python3"
  },
  "language_info": {
   "codemirror_mode": {
    "name": "ipython",
    "version": 3
   },
   "file_extension": ".py",
   "mimetype": "text/x-python",
   "name": "python",
   "nbconvert_exporter": "python",
   "pygments_lexer": "ipython3",
   "version": "3.6.8"
  }
 },
 "nbformat": 4,
 "nbformat_minor": 2
}
